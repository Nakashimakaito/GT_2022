{
 "cells": [
  {
   "cell_type": "code",
   "execution_count": 1,
   "id": "current-groove",
   "metadata": {
    "tags": []
   },
   "outputs": [],
   "source": [
    "import itertools\n",
    "import pandas as pd\n",
    "import numpy as np\n",
    "from torch import nn\n",
    "from typing import Optional\n",
    "from module import report\n",
    "from module import Data_Agument\n",
    "from torch.utils.data import Dataset, DataLoader\n",
    "from transformers.modeling_outputs import TokenClassifierOutput\n",
    "from datasets import Dataset\n",
    "from datasets import load_metric\n",
    "from transformers import AutoTokenizer\n",
    "from transformers import BertModel\n",
    "from torch.nn import BCEWithLogitsLoss, CrossEntropyLoss, MSELoss,NLLLoss\n",
    "import torch\n",
    "from sklearn.model_selection import train_test_split\n",
    "from livelossplot import PlotLosses\n",
    "from tqdm.notebook import tqdm\n",
    "from module import pytorchtools_Bert\n",
    "\n",
    "label_list = [\n",
    "'<pad>',\n",
    "'O',\n",
    "'B-RightSpeaker',   \n",
    "'B-Speaker',\n",
    "'B-LeftSpeaker',\n",
    "'B-Unknown',\n",
    "'I-RightSpeaker',\n",
    "'I-Speaker',\n",
    "'I-LeftSpeaker',\n",
    "'I-Unknown',\n",
    "\"<EOS>\",\n",
    "\"<BOS>\"\n",
    "]\n",
    "label_encoding_dict = {\n",
    "'<pad>':0,\n",
    "'O': 1,\n",
    "'B-RightSpeaker': 2,   \n",
    "'B-Speaker': 3,\n",
    "'B-LeftSpeaker': 4,\n",
    "'B-Unknown': 5,\n",
    "'I-RightSpeaker': 6,\n",
    "'I-Speaker': 7,\n",
    "'I-LeftSpeaker': 8,\n",
    "'I-Unknown': 9,\n",
    "\"<EOS>\":10,\n",
    "\"<BOS>\":11\n",
    "}\n",
    "task = \"ner\" \n",
    "model_checkpoint = \"bert-base-uncased\"\n",
    "batch_size = 32\n",
    "tokenizer = AutoTokenizer.from_pretrained(model_checkpoint)\n",
    "\n",
    "\n",
    "def get_all_tokens_and_ner_tags(directory):\n",
    "    return pd.concat([get_tokens_and_ner_tags(directory) ]).reset_index().drop('index', axis=1)\n",
    "\n",
    "\n",
    "def get_tokens_and_ner_tags(filename):\n",
    "    with open(filename, 'r', encoding=\"utf8\") as f:\n",
    "        lines = f.readlines()\n",
    "        split_list = [list(y) for x, y in itertools.groupby(lines, lambda z: z == '\\n') if not x]\n",
    "        tokens = [[x.split(' ')[0] for x in y] for y in split_list]\n",
    "        entities = [[x.split(' ')[1][:-1] for x in y] for y in split_list] \n",
    "    return pd.DataFrame({'tokens': tokens, 'ner_tags': entities})\n",
    "\n",
    "\n",
    "def get_un_token_dataset(directory, Rondom):\n",
    "    if Rondom:\n",
    "        df, AFTER_NAME_LIST_APPEAR_1, AFTER_NAME_LIST__OVER_1 = Data_Agument.get_Data_Agument(directory)\n",
    "        print(len(AFTER_NAME_LIST_APPEAR_1), len(AFTER_NAME_LIST__OVER_1))\n",
    "    else:\n",
    "        df = get_all_tokens_and_ner_tags(directory)\n",
    "        for i in range(len(df)):\n",
    "            df.ner_tags[i] = [\"O\" if d == \"Out\" else d for d in df.ner_tags[i]]\n",
    "\n",
    "    df_train, df_test = train_test_split(df, test_size=0.3)\n",
    "    df_test, df_val = train_test_split(df_test, test_size=0.5)\n",
    "    test_dataset = Dataset.from_pandas(df_test.reset_index(drop=True))\n",
    "    train_dataset = Dataset.from_pandas(df_train.reset_index(drop=True))\n",
    "    val_dataset = Dataset.from_pandas(df_val.reset_index(drop=True))\n",
    "\n",
    "    return (df,train_dataset,test_dataset,val_dataset)"
   ]
  },
  {
   "cell_type": "code",
   "execution_count": 2,
   "id": "verified-endorsement",
   "metadata": {},
   "outputs": [
    {
     "name": "stdout",
     "output_type": "stream",
     "text": [
      "884 1776\n"
     ]
    }
   ],
   "source": [
    "df, train_dataset, test_dataset, val_dataset = get_un_token_dataset(\"./DirectQuote/data/truecased.txt\",True)"
   ]
  },
  {
   "cell_type": "code",
   "execution_count": 3,
   "id": "brazilian-bedroom",
   "metadata": {},
   "outputs": [],
   "source": [
    "path_checkpoint = 'path/model_B_BiL_path.pth'\n",
    "path_model = \"model_bert/BL_CRF.pth\""
   ]
  },
  {
   "cell_type": "code",
   "execution_count": 4,
   "id": "documented-voltage",
   "metadata": {},
   "outputs": [],
   "source": [
    "def tokenize_and_align_labels(examples):\n",
    "    label_all_tokens = True\n",
    "    tokenized_inputs = tokenizer(list(examples[\"tokens\"]), truncation=True, is_split_into_words=True)\n",
    "    labels = []\n",
    "    for i, label in enumerate(examples[f\"{task}_tags\"]):\n",
    "        word_ids = tokenized_inputs.word_ids(batch_index=i)\n",
    "        previous_word_idx = None\n",
    "        EOS_check=True\n",
    "        label_ids = []\n",
    "        for word_idx in word_ids:\n",
    "            if word_idx is None and EOS_check is True:\n",
    "                label_ids.append(10)\n",
    "                EOS_check=False\n",
    "            elif word_idx is None and EOS_check is False:\n",
    "                label_ids.append(11)\n",
    "            elif word_idx != previous_word_idx:\n",
    "                label_ids.append(label_encoding_dict[label[word_idx]])\n",
    "            else:\n",
    "                label_ids.append(label_encoding_dict[label[word_idx]] if label_all_tokens else -101)\n",
    "            previous_word_idx = word_idx\n",
    "        labels.append(label_ids)\n",
    "        \n",
    "    tokenized_inputs[\"labels\"] = labels\n",
    "    return tokenized_inputs"
   ]
  },
  {
   "cell_type": "code",
   "execution_count": 5,
   "id": "crucial-greek",
   "metadata": {
    "tags": []
   },
   "outputs": [
    {
     "data": {
      "application/vnd.jupyter.widget-view+json": {
       "model_id": "d98ee1e329e341219ea569b4834927cb",
       "version_major": 2,
       "version_minor": 0
      },
      "text/plain": [
       "  0%|          | 0/14 [00:00<?, ?ba/s]"
      ]
     },
     "metadata": {},
     "output_type": "display_data"
    },
    {
     "data": {
      "application/vnd.jupyter.widget-view+json": {
       "model_id": "51419f186cb547ebaa0fad1c4a687cf8",
       "version_major": 2,
       "version_minor": 0
      },
      "text/plain": [
       "  0%|          | 0/3 [00:00<?, ?ba/s]"
      ]
     },
     "metadata": {},
     "output_type": "display_data"
    },
    {
     "data": {
      "application/vnd.jupyter.widget-view+json": {
       "model_id": "8071333145b9400dbf398363e4284704",
       "version_major": 2,
       "version_minor": 0
      },
      "text/plain": [
       "  0%|          | 0/3 [00:00<?, ?ba/s]"
      ]
     },
     "metadata": {},
     "output_type": "display_data"
    }
   ],
   "source": [
    "train_tokenized_datasets = train_dataset.map(tokenize_and_align_labels, batched=True)\n",
    "test_tokenized_datasets = test_dataset.map(tokenize_and_align_labels, batched=True)\n",
    "val_tokenized_datasets = val_dataset.map(tokenize_and_align_labels, batched=True)"
   ]
  },
  {
   "cell_type": "code",
   "execution_count": 6,
   "id": "speaking-martin",
   "metadata": {},
   "outputs": [],
   "source": [
    "class CreateDataset(Dataset):\n",
    "\n",
    "    def __init__(self, dataset):\n",
    "        self.dataset = dataset\n",
    "        self.tokenizer = tokenizer\n",
    "\n",
    "    def __len__(self):\n",
    "        return len(self.dataset)\n",
    "\n",
    "\n",
    "    def __getitem__(self, index):\n",
    "        input_ids = torch.tensor(self.dataset[index][\"input_ids\"])\n",
    "        token_type_ids = torch.tensor(self.dataset[index][\"token_type_ids\"])\n",
    "        attention_mask = torch.tensor(self.dataset[index][\"attention_mask\"])\n",
    "        labels = torch.tensor(self.dataset[index][\"labels\"])\n",
    "        return {\n",
    "        \"input_ids\": input_ids,\n",
    "        \"token_type_ids\": token_type_ids,\n",
    "        \"attention_mask\": attention_mask,\n",
    "        \"labels\": labels\n",
    "        }"
   ]
  },
  {
   "cell_type": "code",
   "execution_count": 7,
   "id": "bizarre-yellow",
   "metadata": {},
   "outputs": [],
   "source": [
    "def collate_batch(batch):\n",
    "    label_list, text_list,M_list,type_list = [], [],[],[]\n",
    "    for (B) in batch:\n",
    "        _text=B[\"input_ids\"]\n",
    "        _label=B[\"labels\"]\n",
    "        _mask=B[\"attention_mask\"]\n",
    "        _type=B[\"token_type_ids\"]\n",
    "        label_list.append(_label)\n",
    "        text_list.append(_text)\n",
    "        M_list.append(_mask)\n",
    "        type_list.append(_type)\n",
    "    text_list = torch.nn.utils.rnn.pad_sequence(text_list, batch_first=True, padding_value=0)\n",
    "    label_list = torch.nn.utils.rnn.pad_sequence(label_list, batch_first=True, padding_value=0)\n",
    "    M_list = torch.nn.utils.rnn.pad_sequence(M_list, batch_first=True, padding_value=0)\n",
    "    type_list = torch.nn.utils.rnn.pad_sequence(type_list, batch_first=True, padding_value=0)\n",
    "    return {\n",
    "        \"input_ids\": text_list,\n",
    "        \"token_type_ids\": type_list,\n",
    "        \"attention_mask\": M_list,\n",
    "        \"labels\": label_list\n",
    "        }"
   ]
  },
  {
   "cell_type": "code",
   "execution_count": 8,
   "id": "particular-capacity",
   "metadata": {},
   "outputs": [],
   "source": [
    "dataset_train_for_loader = CreateDataset(train_tokenized_datasets)\n",
    "dataset_val_for_loader = CreateDataset(val_tokenized_datasets)\n",
    "dataset_test_for_loader = CreateDataset(test_tokenized_datasets)\n",
    "\n",
    "\n",
    "dataloader_train = DataLoader(\n",
    "    dataset_train_for_loader,\n",
    "    batch_size=batch_size,\n",
    "    shuffle=True,\n",
    "    pin_memory=True,\n",
    "    collate_fn=collate_batch\n",
    ")\n",
    "dataloader_val = DataLoader(\n",
    "    dataset_val_for_loader,\n",
    "    batch_size=batch_size,\n",
    "    shuffle=True,\n",
    "    pin_memory=True,\n",
    "    collate_fn=collate_batch\n",
    ")\n",
    "dataloader_test = DataLoader(\n",
    "    dataset_test_for_loader,\n",
    "    batch_size=batch_size,\n",
    "    shuffle=True,\n",
    "    pin_memory=True,\n",
    "    collate_fn=collate_batch\n",
    ")\n",
    "dataloaders_dict = {\"train\": dataloader_train, \"val\": dataloader_val}"
   ]
  },
  {
   "cell_type": "code",
   "execution_count": 9,
   "id": "empirical-pressing",
   "metadata": {},
   "outputs": [
    {
     "name": "stdout",
     "output_type": "stream",
     "text": [
      "0.02\n"
     ]
    }
   ],
   "source": [
    "from transformers import BertConfig\n",
    "config = BertConfig()\n",
    "config.num_labels = len(label_list)\n",
    "print(config.initializer_range)"
   ]
  },
  {
   "cell_type": "code",
   "execution_count": 10,
   "id": "290cae28-29a7-4761-ba1a-ebb2b67cc15b",
   "metadata": {},
   "outputs": [],
   "source": [
    "class BERT(nn.Module):\n",
    "\n",
    "    def __init__(self):\n",
    "        super(BERT, self).__init__()\n",
    "        self.num_labels = config.num_labels\n",
    "\n",
    "        self.bert = BertModel.from_pretrained(model_checkpoint,add_pooling_layer=False, output_attentions=True, output_hidden_states=True)\n",
    "\n",
    "    def forward(\n",
    "        self,\n",
    "        input_ids,\n",
    "        token_type_ids,\n",
    "        attention_mask,\n",
    "        labels: Optional[torch.Tensor] = None,\n",
    "        return_dict: Optional[bool] = None,\n",
    "        ):\n",
    "      \n",
    "        return_dict = return_dict if return_dict is not None else config.use_return_dict\n",
    "        outputs = self.bert(\n",
    "            input_ids,\n",
    "            token_type_ids=token_type_ids,\n",
    "            attention_mask=attention_mask,\n",
    "            return_dict=return_dict,\n",
    "        )\n",
    "    \n",
    "        return TokenClassifierOutput(\n",
    "            hidden_states=outputs.hidden_states,\n",
    "            attentions=outputs.attentions,\n",
    "        )"
   ]
  },
  {
   "cell_type": "code",
   "execution_count": 11,
   "id": "85afc50f-6839-4bae-8d58-f6c79bdb87e6",
   "metadata": {},
   "outputs": [],
   "source": [
    "class BERT_BiLSTM(nn.Module):\n",
    "    def __init__(self, config, batch_size, device):\n",
    "        super(BERT_BiLSTM, self).__init__()\n",
    "        self.num_labels = config.num_labels\n",
    "        self.hidden_size = config.hidden_size\n",
    "        self.batch_size = batch_size\n",
    "        self.device = device\n",
    "        self.dropout = torch.nn.Dropout(0.3)\n",
    "        self.bert = BERT()\n",
    "        self.BiLSTM = nn.LSTM(input_size=self.hidden_size,\n",
    "                              hidden_size=self.hidden_size,\n",
    "                              batch_first=True,\n",
    "                              bidirectional=True)\n",
    "        self.hidden2label = nn.Linear(self.hidden_size*2, self.num_labels)\n",
    "\n",
    "    def _get_bert_features(self, input_ids, token_type_ids, attention_mask, labels, return_dict):\n",
    "        bert_seq_out = self.bert(\n",
    "            input_ids=input_ids, \n",
    "            token_type_ids=None,\n",
    "            attention_mask=attention_mask, \n",
    "            labels=labels,\n",
    "            return_dict=True)\n",
    "        bert_seq_out = self.dropout(bert_seq_out[\"hidden_states\"][-1])\n",
    "        bilstm_seq_out, _ = self.BiLSTM(bert_seq_out, None)\n",
    "        bilstm_seq_out = self.dropout(bilstm_seq_out)\n",
    "        bert_bilstm_feats = self.hidden2label(bilstm_seq_out)\n",
    "        return bert_bilstm_feats\n",
    "\n",
    "    def forward(self, input_ids, token_type_ids, attention_mask, labels, return_dict):\n",
    "\n",
    "        bert_bilstm_feats = self._get_bert_features(\n",
    "            input_ids=input_ids, \n",
    "            token_type_ids=None,\n",
    "            attention_mask=attention_mask, \n",
    "            labels=labels,\n",
    "            return_dict=True)\n",
    "        loss_fct = CrossEntropyLoss(ignore_index=0)\n",
    "        loss = loss_fct(bert_bilstm_feats.view(-1, self.num_labels), labels.view(-1))\n",
    "        return TokenClassifierOutput(\n",
    "            loss=loss,\n",
    "            logits=bert_bilstm_feats,\n",
    "        )"
   ]
  },
  {
   "cell_type": "code",
   "execution_count": 12,
   "id": "adcff626-9f52-4142-8e02-94501da1c6fe",
   "metadata": {},
   "outputs": [],
   "source": [
    "label_list = label_list\n",
    "label_map = {label: i for i,label in enumerate(label_list)}\n",
    "device = torch.device(\"cuda:0\" if torch.cuda.is_available() else \"cpu\")"
   ]
  },
  {
   "cell_type": "code",
   "execution_count": 13,
   "id": "c96ec0e3-d314-457c-9fbc-a78b401be8c1",
   "metadata": {},
   "outputs": [
    {
     "name": "stderr",
     "output_type": "stream",
     "text": [
      "Some weights of the model checkpoint at bert-base-uncased were not used when initializing BertModel: ['cls.predictions.bias', 'cls.seq_relationship.weight', 'bert.pooler.dense.weight', 'cls.predictions.transform.dense.weight', 'cls.predictions.decoder.weight', 'bert.pooler.dense.bias', 'cls.predictions.transform.LayerNorm.weight', 'cls.predictions.transform.dense.bias', 'cls.predictions.transform.LayerNorm.bias', 'cls.seq_relationship.bias']\n",
      "- This IS expected if you are initializing BertModel from the checkpoint of a model trained on another task or with another architecture (e.g. initializing a BertForSequenceClassification model from a BertForPreTraining model).\n",
      "- This IS NOT expected if you are initializing BertModel from the checkpoint of a model that you expect to be exactly identical (initializing a BertForSequenceClassification model from a BertForSequenceClassification model).\n"
     ]
    }
   ],
   "source": [
    "start_label_id = label_map[\"<BOS>\"]\n",
    "stop_label_id = label_map[\"<EOS>\"]\n",
    "model = BERT_BiLSTM(config, batch_size, device)"
   ]
  },
  {
   "cell_type": "code",
   "execution_count": 14,
   "id": "897bdfba-c53e-4bec-be3f-c79177650282",
   "metadata": {
    "tags": []
   },
   "outputs": [],
   "source": [
    "model_params = list(model.named_parameters())"
   ]
  },
  {
   "cell_type": "code",
   "execution_count": 15,
   "id": "a5a300f1-bd89-464d-86a1-1eef52f38261",
   "metadata": {},
   "outputs": [],
   "source": [
    "bert_params = [p for n, p in model_params if \"bert\" in n]\n",
    "class_params = [p for n, p in model_params if \"hidden2label\" in n]\n",
    "lstm_params = [p for n, p in model_params if \"BiLSTM\" in n] \n",
    "params = [\n",
    "    {'params': bert_params, 'lr': 0.00001},\n",
    "    {'params': lstm_params, 'lr': 0.0001,'weight_decacy_rate':0.00001},\n",
    "    {'params': class_params, 'lr': 0.001}\n",
    "]\n",
    "\n",
    "for param in model.parameters():\n",
    "    param.requires_grad = False\n",
    "\n",
    "for param in model.bert.bert.encoder.layer[-8:].parameters():\n",
    "    param.requires_grad = True\n",
    "    \n",
    "for param in model.BiLSTM.parameters():\n",
    "    param.requires_grad = True \n",
    "for param in model.hidden2label.parameters():\n",
    "    param.requires_grad = True "
   ]
  },
  {
   "cell_type": "code",
   "execution_count": 16,
   "id": "d908edfd-4cae-491a-81d8-f6ba2f060493",
   "metadata": {},
   "outputs": [],
   "source": [
    "import matplotlib.pyplot as plt\n",
    "device = torch.device(\"cuda:0\" if torch.cuda.is_available() else \"cpu\")\n",
    "patience = 10\n",
    "early_stopping = pytorchtools_Bert.EarlyStopping(patience=patience, verbose=True,path=path_checkpoint)\n",
    "model.to(device)\n",
    "liveloss = PlotLosses()\n",
    "optimizer = torch.optim.Adam(params)\n",
    "scheduler = torch.optim.lr_scheduler.MultiStepLR(optimizer, milestones=[2,4], gamma=0.1)\n",
    "def train_model(net, dataloaders_dict, num_epochs):\n",
    "    device = torch.device(\"cuda:0\" if torch.cuda.is_available() else \"cpu\")\n",
    "    print(\"使用デバイス：\", device)\n",
    "    print('-----start-------')\n",
    "\n",
    "    net.to(device)\n",
    "\n",
    "    torch.backends.cudnn.benchmark = True\n",
    "\n",
    "    batch_size = dataloaders_dict[\"train\"].batch_size\n",
    "    logs = {}\n",
    "    lrs = []\n",
    "    for epoch in range(num_epochs):\n",
    "        print(epoch)\n",
    "\n",
    "        for phase in ['train', 'val']:\n",
    "            if phase == 'train':\n",
    "                net.train()\n",
    "            else:\n",
    "                net.eval()\n",
    "\n",
    "            epoch_loss = 0.0\n",
    "            L2,P2=[],[]\n",
    "\n",
    "            for batch in tqdm((dataloaders_dict[phase])):\n",
    "                input_ids = batch[\"input_ids\"].to(device)\n",
    "                attention_mask = batch[\"attention_mask\"].to(device)\n",
    "                labels = batch[\"labels\"].to(device)\n",
    "                optimizer.zero_grad()\n",
    "                with torch.set_grad_enabled(phase == 'train'):\n",
    "                    output = net(input_ids=input_ids,\n",
    "                                 token_type_ids=None,\n",
    "                                 attention_mask=attention_mask,\n",
    "                                 labels=labels,\n",
    "                                 return_dict=True)\n",
    "                    loss = output[0]\n",
    "                    if phase == 'train':\n",
    "                        loss.backward()\n",
    "                        torch.nn.utils.clip_grad_norm_(net.parameters(), 1.0)\n",
    "                        optimizer.step()\n",
    "                    epoch_loss += loss.item()*batch_size\n",
    "            if phase == 'val':\n",
    "                logs['val_loss'] = epoch_loss/ len(dataloaders_dict[phase].dataset)\n",
    "            else:\n",
    "                logs['loss'] = epoch_loss/ len(dataloaders_dict[phase].dataset)\n",
    "        if phase == 'val':\n",
    "            early_stopping(epoch_loss/ len(dataloaders_dict[phase].dataset),net) \n",
    "            if early_stopping.early_stop:\n",
    "                print(\"Early Stopping\")\n",
    "                return net\n",
    "        liveloss.update(logs)\n",
    "        liveloss.send()\n",
    "        lrs.append(optimizer.param_groups[0][\"lr\"])\n",
    "        scheduler.step()\n",
    "        plt.plot(lrs)\n",
    "        plt.show()\n",
    "\n",
    "\n",
    "    return net"
   ]
  },
  {
   "cell_type": "code",
   "execution_count": 17,
   "id": "4704865e-9aaf-4c86-ab5c-d40c72326daf",
   "metadata": {
    "tags": []
   },
   "outputs": [
    {
     "data": {
      "image/png": "[encoded data removed]",
      "text/plain": [
       "<Figure size 1200x800 with 2 Axes>"
      ]
     },
     "metadata": {},
     "output_type": "display_data"
    },
    {
     "name": "stdout",
     "output_type": "stream",
     "text": [
      "Loss\n",
      "\ttraining         \t (min:    0.121, max:    0.347, cur:    0.121)\n",
      "\tvalidation       \t (min:    0.172, max:    0.212, cur:    0.177)\n"
     ]
    },
    {
     "data": {
      "image/png": "[encoded data removed]",
      "text/plain": [
       "<Figure size 640x480 with 1 Axes>"
      ]
     },
     "metadata": {},
     "output_type": "display_data"
    },
    {
     "name": "stdout",
     "output_type": "stream",
     "text": [
      "12\n"
     ]
    },
    {
     "data": {
      "application/vnd.jupyter.widget-view+json": {
       "model_id": "7cc607e39bae47ecaf4eb9e6ace9ddc6",
       "version_major": 2,
       "version_minor": 0
      },
      "text/plain": [
       "  0%|          | 0/427 [00:00<?, ?it/s]"
      ]
     },
     "metadata": {},
     "output_type": "display_data"
    },
    {
     "data": {
      "application/vnd.jupyter.widget-view+json": {
       "model_id": "05a65c64bd2d473ea169f6f8885e2631",
       "version_major": 2,
       "version_minor": 0
      },
      "text/plain": [
       "  0%|          | 0/92 [00:00<?, ?it/s]"
      ]
     },
     "metadata": {},
     "output_type": "display_data"
    },
    {
     "name": "stdout",
     "output_type": "stream",
     "text": [
      "EarlyStopping counter: 10 out of 10\n",
      "Early Stopping\n"
     ]
    }
   ],
   "source": [
    "num_epochs = 30\n",
    "net_trained = train_model(model, dataloaders_dict, num_epochs=num_epochs)"
   ]
  },
  {
   "cell_type": "code",
   "execution_count": 19,
   "id": "310d306b-e1f6-494c-93a5-eb34cd7d3708",
   "metadata": {},
   "outputs": [
    {
     "data": {
      "text/plain": [
       "<bound method CRF._viterbi_decode of CRF(num_tags=12)>"
      ]
     },
     "execution_count": 19,
     "metadata": {},
     "output_type": "execute_result"
    }
   ],
   "source": [
    "from torchcrf import CRF\n",
    "CRF(len(label_list), batch_first=True)._viterbi_decode"
   ]
  },
  {
   "cell_type": "code",
   "execution_count": 20,
   "id": "5c0f2027-492a-4d5e-8cea-a1c4e5431045",
   "metadata": {
    "tags": []
   },
   "outputs": [],
   "source": [
    "def DATA_CLEAN(out, mask):\n",
    "    pre = [label_list[out[i + 1]] for i in range(sum(mask > 0) - 2)]\n",
    "    return (report.get_entities(pre), pre)\n",
    "\n",
    "\n",
    "def evaluate_model(batch_entities_list, batch_entities_predicted_list, type_id=None):\n",
    "    num_entities = 0\n",
    "    num_predictions = 0\n",
    "    num_correct = 0 \n",
    "    for entities_list, entities_predicted_list in zip(batch_entities_list, batch_entities_predicted_list):\n",
    "        for entities, entities_predicted in zip(entities_list, entities_predicted_list):\n",
    "            if type_id:\n",
    "                entities = [e for e in entities if e[0] == type_id]\n",
    "                entities_predicted = [\n",
    "                    e for e in entities_predicted if e[0] == type_id\n",
    "                ]\n",
    "\n",
    "            get_span_type = lambda e: (e[1], e[2], e[0])\n",
    "            set_entities = set(get_span_type(e) for e in entities)\n",
    "            set_entities_predicted = set(get_span_type(e) for e in entities_predicted)\n",
    "            num_entities += len(entities)\n",
    "            num_predictions += len(entities_predicted)\n",
    "            num_correct += len(set_entities & set_entities_predicted)\n",
    "\n",
    "    precision = num_correct/num_predictions\n",
    "    recall = num_correct/num_entities\n",
    "    f_value = 2*precision*recall/(precision+recall)\n",
    "\n",
    "    result = {\n",
    "        'num_entities': num_entities,\n",
    "        'num_predictions': num_predictions,\n",
    "        'num_correct': num_correct,\n",
    "        'precision': precision,\n",
    "        'recall': recall,\n",
    "        'f_value': f_value\n",
    "    }\n",
    "\n",
    "    return result\n",
    "\n",
    "\n",
    "def eval_model(label, lists):\n",
    "    eval_label_encoding_dict = {\n",
    "        \"Speaker\": \"Speaker\",\n",
    "        \"Quoat\": \"Quoat\"\n",
    "    }\n",
    "    eval_df = pd.DataFrame()\n",
    "    for k, v in eval_label_encoding_dict.items():\n",
    "        eval_res = evaluate_model(label, lists, type_id=v)\n",
    "        eval_df[k] = eval_res.values()\n",
    "\n",
    "    eval_res_all = evaluate_model(label, lists, type_id=None)\n",
    "    eval_df[\"ALL\"] = eval_res_all.values()\n",
    "\n",
    "    eval_df.index = eval_res_all.keys()\n",
    "    return eval_df\n",
    "\n",
    "\n",
    "def mat3(datasets, MO):\n",
    "    crf=CRF(len(label_list), batch_first=True)\n",
    "    tran=np.array([\n",
    "    [0,-1,-1,-1,-1,-1,-1,-1,-1,-1,0,-1],\n",
    "    [0,0,0,0,0,0,-1,-1,-1,-1,0,-1],\n",
    "    [0,0,0,0,0,0,0,-1,-1,-1,0,-1],\n",
    "    [0,0,0,0,0,0,-1,0,-1,-1,0,-1],\n",
    "    [0,0,0,0,0,0,-1,-1,0,-1,0,-1],\n",
    "    [0,0,0,0,0,0,-1,-1,-1,0,0,-1],\n",
    "    [0,0,0,0,0,0,0,-1,-1,-1,0,-1],\n",
    "    [0,0,0,0,0,0,-1,0,-1,-1,0,-1],\n",
    "    [0,0,0,0,0,0,-1,-1,0,-1,0,-1],\n",
    "    [0,0,0,0,0,0,-1,-1,-1,0,0,-1],\n",
    "    [-1,-1,-1,-1,-1,-1,-1,-1,-1,-1,-1,-1],\n",
    "    [-1,0,0,0,0,0,-1,-1,-1,-1,-1,-1]\n",
    "    ], dtype='float64')\n",
    "    tran[tran == -1] = -0.1\n",
    "    crf.transitions=nn.Parameter(torch.tensor(tran))\n",
    "    L2, P2 = [], []\n",
    "    MO.eval()\n",
    "    MO.to(device)\n",
    "    with torch.no_grad():\n",
    "        for batch in tqdm((datasets)):\n",
    "            input_ids = batch[\"input_ids\"].to(device)\n",
    "            attention_mask = batch[\"attention_mask\"].to(device)\n",
    "            labels = batch[\"labels\"].to(device)\n",
    "            output = MO(input_ids=input_ids, token_type_ids=None, \n",
    "                        attention_mask=attention_mask, \n",
    "                        labels=labels,\n",
    "                        return_dict=True)\n",
    "            preT = crf.decode(output.logits.to(\"cpu\"), attention_mask.bool().to(\"cpu\"))\n",
    "            out_list = map(DATA_CLEAN,\n",
    "                                preT,\n",
    "                                attention_mask.cpu().numpy().copy())\n",
    "            out_label = map(DATA_CLEAN,\n",
    "                                 labels,\n",
    "                                 attention_mask.cpu().numpy().copy())\n",
    "            #print([pd.DataFrame({'pre': p[1], 'true': l[1]}) for p, l in zip(list(out_list), list(out_label))])\n",
    "            P2.append([o[0] for o in list(out_list)])\n",
    "            L2.append([o[0] for o in list(out_label)])\n",
    "\n",
    "\n",
    "    return L2, P2, eval_model(L2, P2)"
   ]
  },
  {
   "cell_type": "code",
   "execution_count": 21,
   "id": "cc729c20-7d19-4c81-b8a3-1cb320e0719f",
   "metadata": {
    "tags": []
   },
   "outputs": [
    {
     "name": "stdout",
     "output_type": "stream",
     "text": [
      "[[ 0.  -0.1 -0.1 -0.1 -0.1 -0.1 -0.1 -0.1 -0.1 -0.1  0.  -0.1]\n",
      " [ 0.   0.   0.   0.   0.   0.  -0.1 -0.1 -0.1 -0.1  0.  -0.1]\n",
      " [ 0.   0.   0.   0.   0.   0.   0.  -0.1 -0.1 -0.1  0.  -0.1]\n",
      " [ 0.   0.   0.   0.   0.   0.  -0.1  0.  -0.1 -0.1  0.  -0.1]\n",
      " [ 0.   0.   0.   0.   0.   0.  -0.1 -0.1  0.  -0.1  0.  -0.1]\n",
      " [ 0.   0.   0.   0.   0.   0.  -0.1 -0.1 -0.1  0.   0.  -0.1]\n",
      " [ 0.   0.   0.   0.   0.   0.   0.  -0.1 -0.1 -0.1  0.  -0.1]\n",
      " [ 0.   0.   0.   0.   0.   0.  -0.1  0.  -0.1 -0.1  0.  -0.1]\n",
      " [ 0.   0.   0.   0.   0.   0.  -0.1 -0.1  0.  -0.1  0.  -0.1]\n",
      " [ 0.   0.   0.   0.   0.   0.  -0.1 -0.1 -0.1  0.   0.  -0.1]\n",
      " [-0.1 -0.1 -0.1 -0.1 -0.1 -0.1 -0.1 -0.1 -0.1 -0.1 -0.1 -0.1]\n",
      " [-0.1  0.   0.   0.   0.   0.  -0.1 -0.1 -0.1 -0.1 -0.1 -0.1]]\n"
     ]
    },
    {
     "data": {
      "application/vnd.jupyter.widget-view+json": {
       "model_id": "e57ecae4320d4755931c81c0fb89c622",
       "version_major": 2,
       "version_minor": 0
      },
      "text/plain": [
       "  0%|          | 0/92 [00:00<?, ?it/s]"
      ]
     },
     "metadata": {},
     "output_type": "display_data"
    }
   ],
   "source": [
    "L, P, eval_result= mat3(dataloader_test, torch.load(path_checkpoint))"
   ]
  },
  {
   "cell_type": "code",
   "execution_count": 22,
   "id": "7453dfbf-905a-461e-878a-8c6dc0f0a06e",
   "metadata": {
    "tags": []
   },
   "outputs": [
    {
     "data": {
      "text/html": [
       "<div>\n",
       "<style scoped>\n",
       "    .dataframe tbody tr th:only-of-type {\n",
       "        vertical-align: middle;\n",
       "    }\n",
       "\n",
       "    .dataframe tbody tr th {\n",
       "        vertical-align: top;\n",
       "    }\n",
       "\n",
       "    .dataframe thead th {\n",
       "        text-align: right;\n",
       "    }\n",
       "</style>\n",
       "<table border=\"1\" class=\"dataframe\">\n",
       "  <thead>\n",
       "    <tr style=\"text-align: right;\">\n",
       "      <th></th>\n",
       "      <th>Speaker</th>\n",
       "      <th>Quoat</th>\n",
       "      <th>ALL</th>\n",
       "    </tr>\n",
       "  </thead>\n",
       "  <tbody>\n",
       "    <tr>\n",
       "      <th>num_entities</th>\n",
       "      <td>1087.000000</td>\n",
       "      <td>785.000000</td>\n",
       "      <td>1872.000000</td>\n",
       "    </tr>\n",
       "    <tr>\n",
       "      <th>num_predictions</th>\n",
       "      <td>1260.000000</td>\n",
       "      <td>876.000000</td>\n",
       "      <td>2136.000000</td>\n",
       "    </tr>\n",
       "    <tr>\n",
       "      <th>num_correct</th>\n",
       "      <td>1034.000000</td>\n",
       "      <td>664.000000</td>\n",
       "      <td>1698.000000</td>\n",
       "    </tr>\n",
       "    <tr>\n",
       "      <th>precision</th>\n",
       "      <td>0.820635</td>\n",
       "      <td>0.757991</td>\n",
       "      <td>0.794944</td>\n",
       "    </tr>\n",
       "    <tr>\n",
       "      <th>recall</th>\n",
       "      <td>0.951242</td>\n",
       "      <td>0.845860</td>\n",
       "      <td>0.907051</td>\n",
       "    </tr>\n",
       "    <tr>\n",
       "      <th>f_value</th>\n",
       "      <td>0.881125</td>\n",
       "      <td>0.799518</td>\n",
       "      <td>0.847305</td>\n",
       "    </tr>\n",
       "  </tbody>\n",
       "</table>\n",
       "</div>"
      ],
      "text/plain": [
       "                     Speaker       Quoat          ALL\n",
       "num_entities     1087.000000  785.000000  1872.000000\n",
       "num_predictions  1260.000000  876.000000  2136.000000\n",
       "num_correct      1034.000000  664.000000  1698.000000\n",
       "precision           0.820635    0.757991     0.794944\n",
       "recall              0.951242    0.845860     0.907051\n",
       "f_value             0.881125    0.799518     0.847305"
      ]
     },
     "execution_count": 22,
     "metadata": {},
     "output_type": "execute_result"
    }
   ],
   "source": [
    "eval_model(L, P)"
   ]
  },
  {
   "cell_type": "code",
   "execution_count": 23,
   "id": "afc92f0e-9d12-49ff-8f61-c13441e44a45",
   "metadata": {},
   "outputs": [
    {
     "data": {
      "text/html": [
       "<div>\n",
       "<style scoped>\n",
       "    .dataframe tbody tr th:only-of-type {\n",
       "        vertical-align: middle;\n",
       "    }\n",
       "\n",
       "    .dataframe tbody tr th {\n",
       "        vertical-align: top;\n",
       "    }\n",
       "\n",
       "    .dataframe thead th {\n",
       "        text-align: right;\n",
       "    }\n",
       "</style>\n",
       "<table border=\"1\" class=\"dataframe\">\n",
       "  <thead>\n",
       "    <tr style=\"text-align: right;\">\n",
       "      <th></th>\n",
       "      <th>Speaker</th>\n",
       "      <th>Quoat</th>\n",
       "      <th>ALL</th>\n",
       "    </tr>\n",
       "  </thead>\n",
       "  <tbody>\n",
       "    <tr>\n",
       "      <th>num_entities</th>\n",
       "      <td>1087.000000</td>\n",
       "      <td>785.000000</td>\n",
       "      <td>1872.000000</td>\n",
       "    </tr>\n",
       "    <tr>\n",
       "      <th>num_predictions</th>\n",
       "      <td>1260.000000</td>\n",
       "      <td>876.000000</td>\n",
       "      <td>2136.000000</td>\n",
       "    </tr>\n",
       "    <tr>\n",
       "      <th>num_correct</th>\n",
       "      <td>1034.000000</td>\n",
       "      <td>664.000000</td>\n",
       "      <td>1698.000000</td>\n",
       "    </tr>\n",
       "    <tr>\n",
       "      <th>precision</th>\n",
       "      <td>0.820635</td>\n",
       "      <td>0.757991</td>\n",
       "      <td>0.794944</td>\n",
       "    </tr>\n",
       "    <tr>\n",
       "      <th>recall</th>\n",
       "      <td>0.951242</td>\n",
       "      <td>0.845860</td>\n",
       "      <td>0.907051</td>\n",
       "    </tr>\n",
       "    <tr>\n",
       "      <th>f_value</th>\n",
       "      <td>0.881125</td>\n",
       "      <td>0.799518</td>\n",
       "      <td>0.847305</td>\n",
       "    </tr>\n",
       "  </tbody>\n",
       "</table>\n",
       "</div>"
      ],
      "text/plain": [
       "                     Speaker       Quoat          ALL\n",
       "num_entities     1087.000000  785.000000  1872.000000\n",
       "num_predictions  1260.000000  876.000000  2136.000000\n",
       "num_correct      1034.000000  664.000000  1698.000000\n",
       "precision           0.820635    0.757991     0.794944\n",
       "recall              0.951242    0.845860     0.907051\n",
       "f_value             0.881125    0.799518     0.847305"
      ]
     },
     "execution_count": 23,
     "metadata": {},
     "output_type": "execute_result"
    }
   ],
   "source": [
    "eval_model(L, P)"
   ]
  },
  {
   "cell_type": "code",
   "execution_count": null,
   "id": "10e81ac4-877b-4c23-8fbb-b5fc307b38a4",
   "metadata": {},
   "outputs": [],
   "source": []
  }
 ],
 "metadata": {
  "kernelspec": {
   "display_name": "Python 3 (ipykernel)",
   "language": "python",
   "name": "python3"
  },
  "language_info": {
   "codemirror_mode": {
    "name": "ipython",
    "version": 3
   },
   "file_extension": ".py",
   "mimetype": "text/x-python",
   "name": "python",
   "nbconvert_exporter": "python",
   "pygments_lexer": "ipython3",
   "version": "3.10.6"
  }
 },
 "nbformat": 4,
 "nbformat_minor": 5
}
