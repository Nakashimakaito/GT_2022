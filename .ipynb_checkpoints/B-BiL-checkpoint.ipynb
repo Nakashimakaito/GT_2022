{
 "cells": [
  {
   "cell_type": "code",
   "execution_count": 1,
   "id": "current-groove",
   "metadata": {
    "tags": []
   },
   "outputs": [],
   "source": [
    "import itertools\n",
    "import pandas as pd\n",
    "import numpy as np\n",
    "#import matplotlib.pyplot as plt\n",
    "from torch import nn\n",
    "from typing import Optional\n",
    "from module import report\n",
    "from module import Data_Agument\n",
    "from torch.utils.data import Dataset, DataLoader\n",
    "from transformers.modeling_outputs import TokenClassifierOutput\n",
    "from datasets import Dataset\n",
    "from datasets import load_metric\n",
    "from transformers import AutoTokenizer\n",
    "from transformers import BertModel\n",
    "#from transformers import DataCollatorForTokenClassification\n",
    "from torch.nn import BCEWithLogitsLoss, CrossEntropyLoss, MSELoss,NLLLoss\n",
    "import torch\n",
    "from sklearn.model_selection import train_test_split\n",
    "from livelossplot import PlotLosses\n",
    "from tqdm.notebook import tqdm\n",
    "from module import pytorchtools_Bert\n",
    "\"\"\"\n",
    "[[0,-1,-1,-1,-1,-1,-1,-1,-1,-1,0,-1],\n",
    "[0,0,0,0,0,0,-1,-1,-1,-1,0,-1],\n",
    "[0,0,0,0,0,0,0,-1,-1,-1,0,-1],\n",
    "[0,0,0,0,0,0,-1,0,-1,-1,0,-1],\n",
    "[0,0,0,0,0,0,-1,-1,0,-1,0,-1],\n",
    "[0,0,0,0,0,0,-1,-1,-1,0,0,-1],\n",
    "\n",
    "[0,0,0,0,0,0,0,-1,-1,-1,0,-1],\n",
    "[0,0,0,0,0,0,-1,0,-1,-1,0.-1],\n",
    "[0,0,0,0,0,0,-1,-1,0,-1,0,-1],\n",
    "[0,0,0,0,0,0,-1,-1,-1,0,0,-1],\n",
    "[-1,-1,-1,-1,-1,-1,-1,-1,-1,-1,-1,-1],\n",
    "[-1,0,0,0,0,0,-1,-1,-1,-1,-1,-1]]\n",
    "\"\"\"\n",
    "label_list = [\n",
    "'<pad>',\n",
    "'O',\n",
    "'B-RightSpeaker',   \n",
    "'B-Speaker',\n",
    "'B-LeftSpeaker',\n",
    "'B-Unknown',\n",
    "'I-RightSpeaker',\n",
    "'I-Speaker',\n",
    "'I-LeftSpeaker',\n",
    "'I-Unknown',\n",
    "\"<EOS>\",\n",
    "\"<BOS>\"\n",
    "]\n",
    "label_encoding_dict = {\n",
    "'<pad>':0,\n",
    "'O': 1,\n",
    "'B-RightSpeaker': 2,   \n",
    "'B-Speaker': 3,\n",
    "'B-LeftSpeaker': 4,\n",
    "'B-Unknown': 5,\n",
    "'I-RightSpeaker': 6,\n",
    "'I-Speaker': 7,\n",
    "'I-LeftSpeaker': 8,\n",
    "'I-Unknown': 9,\n",
    "\"<EOS>\":10,\n",
    "\"<BOS>\":11\n",
    "}\n",
    "task = \"ner\" \n",
    "model_checkpoint = \"bert-base-uncased\"\n",
    "batch_size = 32\n",
    "tokenizer = AutoTokenizer.from_pretrained(model_checkpoint)\n",
    "\n",
    "\n",
    "def get_all_tokens_and_ner_tags(directory):\n",
    "    return pd.concat([get_tokens_and_ner_tags(directory) ]).reset_index().drop('index', axis=1)\n",
    "\n",
    "\n",
    "def get_tokens_and_ner_tags(filename):\n",
    "    with open(filename, 'r', encoding=\"utf8\") as f:\n",
    "        lines = f.readlines()\n",
    "        split_list = [list(y) for x, y in itertools.groupby(lines, lambda z: z == '\\n') if not x]\n",
    "        tokens = [[x.split(' ')[0] for x in y] for y in split_list]\n",
    "        entities = [[x.split(' ')[1][:-1] for x in y] for y in split_list] \n",
    "    return pd.DataFrame({'tokens': tokens, 'ner_tags': entities})\n",
    "\n",
    "\n",
    "def get_un_token_dataset(directory, Rondom):\n",
    "    if Rondom:\n",
    "        df, AFTER_NAME_LIST_APPEAR_1, AFTER_NAME_LIST__OVER_1 = Data_Agument.get_Data_Agument(directory)\n",
    "        print(len(AFTER_NAME_LIST_APPEAR_1), len(AFTER_NAME_LIST__OVER_1))\n",
    "    else:\n",
    "        df = get_all_tokens_and_ner_tags(directory)\n",
    "        for i in range(len(df)):\n",
    "            df.ner_tags[i] = [\"O\" if d == \"Out\" else d for d in df.ner_tags[i]]\n",
    "\n",
    "    df_train, df_test = train_test_split(df, test_size=0.3)\n",
    "    df_test, df_val = train_test_split(df_test, test_size=0.5)\n",
    "    test_dataset = Dataset.from_pandas(df_test.reset_index(drop=True))\n",
    "    train_dataset = Dataset.from_pandas(df_train.reset_index(drop=True))\n",
    "    val_dataset = Dataset.from_pandas(df_val.reset_index(drop=True))\n",
    "\n",
    "    return (df,train_dataset,test_dataset,val_dataset)"
   ]
  },
  {
   "cell_type": "code",
   "execution_count": 2,
   "id": "verified-endorsement",
   "metadata": {},
   "outputs": [
    {
     "name": "stdout",
     "output_type": "stream",
     "text": [
      "884 1776\n"
     ]
    }
   ],
   "source": [
    "df, train_dataset, test_dataset, val_dataset = get_un_token_dataset(\"./DirectQuote/data/truecased.txt\",True)"
   ]
  },
  {
   "cell_type": "code",
   "execution_count": 3,
   "id": "brazilian-bedroom",
   "metadata": {},
   "outputs": [],
   "source": [
    "path_checkpoint = 'path/model_B_BiL_path.pth'\n",
    "path_model = \"model_bert/BL_CRF.pth\""
   ]
  },
  {
   "cell_type": "code",
   "execution_count": 4,
   "id": "documented-voltage",
   "metadata": {},
   "outputs": [],
   "source": [
    "def tokenize_and_align_labels(examples):\n",
    "    label_all_tokens = True\n",
    "    tokenized_inputs = tokenizer(list(examples[\"tokens\"]), truncation=True, is_split_into_words=True)\n",
    "    labels = []\n",
    "    for i, label in enumerate(examples[f\"{task}_tags\"]):\n",
    "        word_ids = tokenized_inputs.word_ids(batch_index=i)\n",
    "        previous_word_idx = None\n",
    "        EOS_check=True\n",
    "        label_ids = []\n",
    "        for word_idx in word_ids:\n",
    "            if word_idx is None and EOS_check is True:\n",
    "                label_ids.append(10)\n",
    "                EOS_check=False\n",
    "            elif word_idx is None and EOS_check is False:\n",
    "                label_ids.append(11)\n",
    "            elif word_idx != previous_word_idx:\n",
    "                label_ids.append(label_encoding_dict[label[word_idx]])\n",
    "            else:\n",
    "                label_ids.append(label_encoding_dict[label[word_idx]] if label_all_tokens else -101)\n",
    "            previous_word_idx = word_idx\n",
    "        labels.append(label_ids)\n",
    "        \n",
    "    tokenized_inputs[\"labels\"] = labels\n",
    "    return tokenized_inputs"
   ]
  },
  {
   "cell_type": "code",
   "execution_count": 5,
   "id": "crucial-greek",
   "metadata": {
    "tags": []
   },
   "outputs": [
    {
     "data": {
      "application/vnd.jupyter.widget-view+json": {
       "model_id": "fd08f089cd2740cdb65ec91cb96ce756",
       "version_major": 2,
       "version_minor": 0
      },
      "text/plain": [
       "  0%|          | 0/14 [00:00<?, ?ba/s]"
      ]
     },
     "metadata": {},
     "output_type": "display_data"
    },
    {
     "data": {
      "application/vnd.jupyter.widget-view+json": {
       "model_id": "6461eff381ff4757b0bf4adcca2373af",
       "version_major": 2,
       "version_minor": 0
      },
      "text/plain": [
       "  0%|          | 0/3 [00:00<?, ?ba/s]"
      ]
     },
     "metadata": {},
     "output_type": "display_data"
    },
    {
     "data": {
      "application/vnd.jupyter.widget-view+json": {
       "model_id": "064d2d4a751d42418cbacd5f54fe17ea",
       "version_major": 2,
       "version_minor": 0
      },
      "text/plain": [
       "  0%|          | 0/3 [00:00<?, ?ba/s]"
      ]
     },
     "metadata": {},
     "output_type": "display_data"
    }
   ],
   "source": [
    "train_tokenized_datasets = train_dataset.map(tokenize_and_align_labels, batched=True)\n",
    "test_tokenized_datasets = test_dataset.map(tokenize_and_align_labels, batched=True)\n",
    "val_tokenized_datasets = val_dataset.map(tokenize_and_align_labels, batched=True)"
   ]
  },
  {
   "cell_type": "code",
   "execution_count": 6,
   "id": "speaking-martin",
   "metadata": {},
   "outputs": [],
   "source": [
    "class CreateDataset(Dataset):\n",
    "\n",
    "    def __init__(self, dataset):\n",
    "        self.dataset = dataset\n",
    "        self.tokenizer = tokenizer\n",
    "\n",
    "    def __len__(self):\n",
    "        return len(self.dataset)\n",
    "\n",
    "\n",
    "    def __getitem__(self, index):\n",
    "        input_ids = torch.tensor(self.dataset[index][\"input_ids\"])\n",
    "        token_type_ids = torch.tensor(self.dataset[index][\"token_type_ids\"])\n",
    "        attention_mask = torch.tensor(self.dataset[index][\"attention_mask\"])\n",
    "        labels = torch.tensor(self.dataset[index][\"labels\"])\n",
    "        return {\n",
    "        \"input_ids\": input_ids,\n",
    "        \"token_type_ids\": token_type_ids,\n",
    "        \"attention_mask\": attention_mask,\n",
    "        \"labels\": labels\n",
    "        }"
   ]
  },
  {
   "cell_type": "code",
   "execution_count": 7,
   "id": "bizarre-yellow",
   "metadata": {},
   "outputs": [],
   "source": [
    "def collate_batch(batch):\n",
    "    label_list, text_list,M_list,type_list = [], [],[],[]\n",
    "    for (B) in batch:\n",
    "        _text=B[\"input_ids\"]\n",
    "        _label=B[\"labels\"]\n",
    "        _mask=B[\"attention_mask\"]\n",
    "        _type=B[\"token_type_ids\"]\n",
    "        label_list.append(_label)\n",
    "        text_list.append(_text)\n",
    "        M_list.append(_mask)\n",
    "        type_list.append(_type)\n",
    "    text_list = torch.nn.utils.rnn.pad_sequence(text_list, batch_first=True, padding_value=0)\n",
    "    label_list = torch.nn.utils.rnn.pad_sequence(label_list, batch_first=True, padding_value=0)\n",
    "    M_list = torch.nn.utils.rnn.pad_sequence(M_list, batch_first=True, padding_value=0)\n",
    "    type_list = torch.nn.utils.rnn.pad_sequence(type_list, batch_first=True, padding_value=0)\n",
    "    return {\n",
    "        \"input_ids\": text_list,\n",
    "        \"token_type_ids\": type_list,\n",
    "        \"attention_mask\": M_list,\n",
    "        \"labels\": label_list\n",
    "        }"
   ]
  },
  {
   "cell_type": "code",
   "execution_count": 8,
   "id": "particular-capacity",
   "metadata": {},
   "outputs": [],
   "source": [
    "dataset_train_for_loader = CreateDataset(train_tokenized_datasets)\n",
    "dataset_val_for_loader = CreateDataset(val_tokenized_datasets)\n",
    "dataset_test_for_loader = CreateDataset(test_tokenized_datasets)\n",
    "\n",
    "\n",
    "dataloader_train = DataLoader(\n",
    "    dataset_train_for_loader,\n",
    "    batch_size=batch_size,\n",
    "    shuffle=True,\n",
    "    pin_memory=True,\n",
    "    collate_fn=collate_batch\n",
    ")\n",
    "dataloader_val = DataLoader(\n",
    "    dataset_val_for_loader,\n",
    "    batch_size=batch_size,\n",
    "    shuffle=True,\n",
    "    pin_memory=True,\n",
    "    collate_fn=collate_batch\n",
    ")\n",
    "dataloader_test = DataLoader(\n",
    "    dataset_test_for_loader,\n",
    "    batch_size=batch_size,\n",
    "    shuffle=True,\n",
    "    pin_memory=True,\n",
    "    collate_fn=collate_batch\n",
    ")\n",
    "dataloaders_dict = {\"train\": dataloader_train, \"val\": dataloader_val}"
   ]
  },
  {
   "cell_type": "code",
   "execution_count": 9,
   "id": "empirical-pressing",
   "metadata": {},
   "outputs": [
    {
     "name": "stdout",
     "output_type": "stream",
     "text": [
      "0.02\n"
     ]
    }
   ],
   "source": [
    "from transformers import BertConfig\n",
    "config = BertConfig()\n",
    "config.num_labels = len(label_list)\n",
    "print(config.initializer_range)"
   ]
  },
  {
   "cell_type": "code",
   "execution_count": 10,
   "id": "290cae28-29a7-4761-ba1a-ebb2b67cc15b",
   "metadata": {},
   "outputs": [],
   "source": [
    "class BERT(nn.Module):\n",
    "\n",
    "    def __init__(self):\n",
    "        super(BERT, self).__init__()\n",
    "        self.num_labels = config.num_labels\n",
    "\n",
    "        self.bert = BertModel.from_pretrained(model_checkpoint,add_pooling_layer=False, output_attentions=True, output_hidden_states=True)\n",
    "\n",
    "    def forward(\n",
    "        self,\n",
    "        input_ids,\n",
    "        token_type_ids,\n",
    "        attention_mask,\n",
    "        labels: Optional[torch.Tensor] = None,\n",
    "        return_dict: Optional[bool] = None,\n",
    "        ):\n",
    "      \n",
    "        return_dict = return_dict if return_dict is not None else config.use_return_dict\n",
    "        outputs = self.bert(\n",
    "            input_ids,\n",
    "            token_type_ids=token_type_ids,\n",
    "            attention_mask=attention_mask,\n",
    "            return_dict=return_dict,\n",
    "        )\n",
    "    \n",
    "        return TokenClassifierOutput(\n",
    "            hidden_states=outputs.hidden_states,\n",
    "            attentions=outputs.attentions,\n",
    "        )"
   ]
  },
  {
   "cell_type": "code",
   "execution_count": 11,
   "id": "85afc50f-6839-4bae-8d58-f6c79bdb87e6",
   "metadata": {},
   "outputs": [],
   "source": [
    "class BERT_BiLSTM(nn.Module):\n",
    "    def __init__(self, config, batch_size, device):\n",
    "        super(BERT_BiLSTM, self).__init__()\n",
    "        self.num_labels = config.num_labels\n",
    "        self.hidden_size = config.hidden_size\n",
    "        self.batch_size = batch_size\n",
    "        self.device = device\n",
    "        self.dropout = torch.nn.Dropout(0.3)\n",
    "        self.bert = BERT()\n",
    "        self.BiLSTM = nn.LSTM(input_size=self.hidden_size,\n",
    "                              hidden_size=self.hidden_size,\n",
    "                              batch_first=True,\n",
    "                              bidirectional=True)\n",
    "        self.hidden2label = nn.Linear(self.hidden_size*2, self.num_labels)\n",
    "\n",
    "    def _get_bert_features(self, input_ids, token_type_ids, attention_mask, labels, return_dict):\n",
    "        bert_seq_out = self.bert(\n",
    "            input_ids=input_ids, \n",
    "            token_type_ids=None,\n",
    "            attention_mask=attention_mask, \n",
    "            labels=labels,\n",
    "            return_dict=True)\n",
    "        bert_seq_out = self.dropout(bert_seq_out[\"hidden_states\"][-1])\n",
    "        bilstm_seq_out, _ = self.BiLSTM(bert_seq_out, None)\n",
    "        bilstm_seq_out = self.dropout(bilstm_seq_out)\n",
    "        bert_bilstm_feats = self.hidden2label(bilstm_seq_out)\n",
    "        return bert_bilstm_feats\n",
    "\n",
    "    def forward(self, input_ids, token_type_ids, attention_mask, labels, return_dict):\n",
    "\n",
    "        bert_bilstm_feats = self._get_bert_features(\n",
    "            input_ids=input_ids, \n",
    "            token_type_ids=None,\n",
    "            attention_mask=attention_mask, \n",
    "            labels=labels,\n",
    "            return_dict=True)\n",
    "        loss_fct = CrossEntropyLoss(ignore_index=0)\n",
    "        loss = loss_fct(bert_bilstm_feats.view(-1, self.num_labels), labels.view(-1))\n",
    "        return TokenClassifierOutput(\n",
    "            loss=loss,\n",
    "            logits=bert_bilstm_feats,\n",
    "        )"
   ]
  },
  {
   "cell_type": "code",
   "execution_count": 12,
   "id": "adcff626-9f52-4142-8e02-94501da1c6fe",
   "metadata": {},
   "outputs": [],
   "source": [
    "label_list = label_list\n",
    "label_map = {label: i for i,label in enumerate(label_list)}\n",
    "device = torch.device(\"cuda:0\" if torch.cuda.is_available() else \"cpu\")"
   ]
  },
  {
   "cell_type": "code",
   "execution_count": 13,
   "id": "c96ec0e3-d314-457c-9fbc-a78b401be8c1",
   "metadata": {},
   "outputs": [
    {
     "name": "stderr",
     "output_type": "stream",
     "text": [
      "Some weights of the model checkpoint at bert-base-uncased were not used when initializing BertModel: ['cls.predictions.transform.dense.weight', 'cls.seq_relationship.weight', 'cls.predictions.bias', 'cls.seq_relationship.bias', 'cls.predictions.transform.LayerNorm.bias', 'cls.predictions.transform.dense.bias', 'bert.pooler.dense.weight', 'cls.predictions.transform.LayerNorm.weight', 'cls.predictions.decoder.weight', 'bert.pooler.dense.bias']\n",
      "- This IS expected if you are initializing BertModel from the checkpoint of a model trained on another task or with another architecture (e.g. initializing a BertForSequenceClassification model from a BertForPreTraining model).\n",
      "- This IS NOT expected if you are initializing BertModel from the checkpoint of a model that you expect to be exactly identical (initializing a BertForSequenceClassification model from a BertForSequenceClassification model).\n"
     ]
    }
   ],
   "source": [
    "start_label_id = label_map[\"<BOS>\"]\n",
    "stop_label_id = label_map[\"<EOS>\"]\n",
    "model = BERT_BiLSTM(config, batch_size, device)"
   ]
  },
  {
   "cell_type": "code",
   "execution_count": 14,
   "id": "897bdfba-c53e-4bec-be3f-c79177650282",
   "metadata": {
    "tags": []
   },
   "outputs": [],
   "source": [
    "model_params = list(model.named_parameters())"
   ]
  },
  {
   "cell_type": "code",
   "execution_count": 15,
   "id": "a5a300f1-bd89-464d-86a1-1eef52f38261",
   "metadata": {},
   "outputs": [],
   "source": [
    "bert_params = [p for n, p in model_params if \"bert\" in n]\n",
    "class_params = [p for n, p in model_params if \"hidden2label\" in n]\n",
    "lstm_params = [p for n, p in model_params if \"BiLSTM\" in n] \n",
    "params = [\n",
    "    {'params': bert_params, 'lr': 0.00001},\n",
    "    {'params': lstm_params, 'lr': 0.0001,'weight_decacy_rate':0.00001},\n",
    "    {'params': class_params, 'lr': 0.001}\n",
    "]\n",
    "\n",
    "for param in model.parameters():\n",
    "    param.requires_grad = False\n",
    "\n",
    "for param in model.bert.bert.encoder.layer[-7:].parameters():\n",
    "    param.requires_grad = True\n",
    "    \n",
    "for param in model.BiLSTM.parameters():\n",
    "    param.requires_grad = True \n",
    "for param in model.hidden2label.parameters():\n",
    "    param.requires_grad = True "
   ]
  },
  {
   "cell_type": "code",
   "execution_count": 16,
   "id": "d908edfd-4cae-491a-81d8-f6ba2f060493",
   "metadata": {},
   "outputs": [],
   "source": [
    "import matplotlib.pyplot as plt\n",
    "device = torch.device(\"cuda:0\" if torch.cuda.is_available() else \"cpu\")\n",
    "patience = 5\n",
    "early_stopping = pytorchtools_Bert.EarlyStopping(patience=patience, verbose=True,path=path_checkpoint)\n",
    "model.to(device)\n",
    "liveloss = PlotLosses()\n",
    "optimizer = torch.optim.Adam(params)\n",
    "scheduler = torch.optim.lr_scheduler.MultiStepLR(optimizer, milestones=[2,4], gamma=0.1)\n",
    "def train_model(net, dataloaders_dict, num_epochs):\n",
    "    device = torch.device(\"cuda:0\" if torch.cuda.is_available() else \"cpu\")\n",
    "    print(\"使用デバイス：\", device)\n",
    "    print('-----start-------')\n",
    "\n",
    "    net.to(device)\n",
    "\n",
    "    torch.backends.cudnn.benchmark = True\n",
    "\n",
    "    batch_size = dataloaders_dict[\"train\"].batch_size\n",
    "    logs = {}\n",
    "    lrs = []\n",
    "    for epoch in range(num_epochs):\n",
    "        print(epoch)\n",
    "\n",
    "        for phase in ['train', 'val']:\n",
    "            if phase == 'train':\n",
    "                net.train()\n",
    "            else:\n",
    "                net.eval()\n",
    "\n",
    "            epoch_loss = 0.0\n",
    "            L2,P2=[],[]\n",
    "\n",
    "            for batch in tqdm((dataloaders_dict[phase])):\n",
    "                input_ids = batch[\"input_ids\"].to(device)\n",
    "                attention_mask = batch[\"attention_mask\"].to(device)\n",
    "                labels = batch[\"labels\"].to(device)\n",
    "                optimizer.zero_grad()\n",
    "                with torch.set_grad_enabled(phase == 'train'):\n",
    "                    output = net(input_ids=input_ids,\n",
    "                                 token_type_ids=None,\n",
    "                                 attention_mask=attention_mask,\n",
    "                                 labels=labels,\n",
    "                                 return_dict=True)\n",
    "                    loss = output[0]\n",
    "                    if phase == 'train':\n",
    "                        loss.backward()\n",
    "                        torch.nn.utils.clip_grad_norm_(net.parameters(), 1.0)\n",
    "                        optimizer.step()\n",
    "                    epoch_loss += loss.item()*batch_size\n",
    "            if phase == 'val':\n",
    "                logs['val_loss'] = epoch_loss/ len(dataloaders_dict[phase].dataset)\n",
    "            else:\n",
    "                logs['loss'] = epoch_loss/ len(dataloaders_dict[phase].dataset)\n",
    "        if phase == 'val':\n",
    "            early_stopping(epoch_loss/ len(dataloaders_dict[phase].dataset),net) \n",
    "            if early_stopping.early_stop:\n",
    "                print(\"Early Stopping\")\n",
    "                return net\n",
    "        liveloss.update(logs)\n",
    "        liveloss.send()\n",
    "        lrs.append(optimizer.param_groups[0][\"lr\"])\n",
    "        scheduler.step()\n",
    "        plt.plot(lrs)\n",
    "        plt.show()\n",
    "\n",
    "\n",
    "    return net"
   ]
  },
  {
   "cell_type": "code",
   "execution_count": 71,
   "id": "4704865e-9aaf-4c86-ab5c-d40c72326daf",
   "metadata": {
    "tags": []
   },
   "outputs": [
    {
     "data": {
      "image/png": "[encoded data removed]",
      "text/plain": [
       "<Figure size 864x576 with 2 Axes>"
      ]
     },
     "metadata": {
      "needs_background": "light"
     },
     "output_type": "display_data"
    },
    {
     "name": "stdout",
     "output_type": "stream",
     "text": [
      "Loss\n",
      "\ttraining         \t (min:    0.130, max:    0.356, cur:    0.131)\n",
      "\tvalidation       \t (min:    0.144, max:    0.174, cur:    0.147)\n"
     ]
    },
    {
     "data": {
      "image/png": "[encoded data removed]",
      "text/plain": [
       "<Figure size 432x288 with 1 Axes>"
      ]
     },
     "metadata": {
      "needs_background": "light"
     },
     "output_type": "display_data"
    },
    {
     "name": "stdout",
     "output_type": "stream",
     "text": [
      "12\n"
     ]
    },
    {
     "data": {
      "application/vnd.jupyter.widget-view+json": {
       "model_id": "5e8ae1a8778a4376a8626ec6b425e42a",
       "version_major": 2,
       "version_minor": 0
      },
      "text/plain": [
       "  0%|          | 0/427 [00:00<?, ?it/s]"
      ]
     },
     "metadata": {},
     "output_type": "display_data"
    },
    {
     "data": {
      "application/vnd.jupyter.widget-view+json": {
       "model_id": "03be91ed9d2e4d9ca5fe56325a22e66d",
       "version_major": 2,
       "version_minor": 0
      },
      "text/plain": [
       "  0%|          | 0/92 [00:00<?, ?it/s]"
      ]
     },
     "metadata": {},
     "output_type": "display_data"
    },
    {
     "name": "stdout",
     "output_type": "stream",
     "text": [
      "EarlyStopping counter: 5 out of 5\n",
      "Early Stopping\n"
     ]
    }
   ],
   "source": [
    "num_epochs = 15\n",
    "net_trained = train_model(model, dataloaders_dict, num_epochs=num_epochs)"
   ]
  },
  {
   "cell_type": "code",
   "execution_count": 22,
   "id": "8278ecd6-9926-45cd-b740-2e594011f3f6",
   "metadata": {},
   "outputs": [],
   "source": [
    "def Viterbi(scores_bert, num_entity_type, penalty=10000):\n",
    "        m = num_entity_type\n",
    "        penalty_matrix = np.zeros([m, m])\n",
    "        \"\"\"\n",
    "        for x in range(1,5):\n",
    "            for y in range(1,9):\n",
    "                if (x+4 == y):\n",
    "                    penalty_matrix[y,x]=penalty\n",
    "        \"\"\"\n",
    "        for x in range(6,10):\n",
    "            for y in range(0,10):\n",
    "                if (x==y or x == 4+y):\n",
    "                    penalty_matrix[y,x]=0\n",
    "                else:\n",
    "                    penalty_matrix[y,x]=1000\n",
    "        path = [ [i] for i in range(m) ]\n",
    "        scores_path = scores_bert[0] - penalty_matrix[0,:]\n",
    "        scores_bert = scores_bert[1:]\n",
    "        for scores in scores_bert:\n",
    "            assert len(scores) == num_entity_type \n",
    "            score_matrix = np.array(scores_path).reshape(-1,1) \\\n",
    "                + np.array(scores).reshape(1,-1) \\\n",
    "                - penalty_matrix\n",
    "            scores_path = score_matrix.max(axis=0)\n",
    "            argmax = score_matrix.argmax(axis=0)\n",
    "            path_new = []\n",
    "            for i, idx in enumerate(argmax):\n",
    "                path_new.append( path[idx] + [i] )\n",
    "            path = path_new\n",
    "        labels_optimal = path[np.argmax(scores_path)]\n",
    "        return labels_optimal"
   ]
  },
  {
   "cell_type": "code",
   "execution_count": 18,
   "id": "310d306b-e1f6-494c-93a5-eb34cd7d3708",
   "metadata": {},
   "outputs": [
    {
     "data": {
      "text/plain": [
       "<bound method CRF._viterbi_decode of CRF(num_tags=12)>"
      ]
     },
     "execution_count": 18,
     "metadata": {},
     "output_type": "execute_result"
    }
   ],
   "source": [
    "from torchcrf import CRF\n",
    "CRF(len(label_list), batch_first=True)._viterbi_decode"
   ]
  },
  {
   "cell_type": "code",
   "execution_count": 64,
   "id": "5c0f2027-492a-4d5e-8cea-a1c4e5431045",
   "metadata": {
    "tags": []
   },
   "outputs": [],
   "source": [
    "def DATA_CLEAN(out, mask):\n",
    "    pre = [label_list[out[i + 1]] for i in range(sum(mask > 0) - 2)]\n",
    "    return (report.get_entities(pre), pre)\n",
    "\n",
    "\n",
    "def evaluate_model(batch_entities_list, batch_entities_predicted_list, type_id=None):\n",
    "    num_entities = 0\n",
    "    num_predictions = 0\n",
    "    num_correct = 0 \n",
    "    for entities_list, entities_predicted_list in zip(batch_entities_list, batch_entities_predicted_list):\n",
    "        for entities, entities_predicted in zip(entities_list, entities_predicted_list):\n",
    "            if type_id:\n",
    "                entities = [e for e in entities if e[0] == type_id]\n",
    "                entities_predicted = [\n",
    "                    e for e in entities_predicted if e[0] == type_id\n",
    "                ]\n",
    "\n",
    "            get_span_type = lambda e: (e[1], e[2], e[0])\n",
    "            set_entities = set(get_span_type(e) for e in entities)\n",
    "            set_entities_predicted = set(get_span_type(e) for e in entities_predicted)\n",
    "            num_entities += len(entities)\n",
    "            num_predictions += len(entities_predicted)\n",
    "            num_correct += len(set_entities & set_entities_predicted)\n",
    "\n",
    "    precision = num_correct/num_predictions\n",
    "    recall = num_correct/num_entities\n",
    "    f_value = 2*precision*recall/(precision+recall)\n",
    "\n",
    "    result = {\n",
    "        'num_entities': num_entities,\n",
    "        'num_predictions': num_predictions,\n",
    "        'num_correct': num_correct,\n",
    "        'precision': precision,\n",
    "        'recall': recall,\n",
    "        'f_value': f_value\n",
    "    }\n",
    "\n",
    "    return result\n",
    "\n",
    "\n",
    "def eval_model(label, lists):\n",
    "    eval_label_encoding_dict = {\n",
    "        \"Speaker\": \"Speaker\",\n",
    "        \"Quoat\": \"Quoat\"\n",
    "    }\n",
    "    eval_df = pd.DataFrame()\n",
    "    for k, v in eval_label_encoding_dict.items():\n",
    "        eval_res = evaluate_model(label, lists, type_id=v)\n",
    "        eval_df[k] = eval_res.values()\n",
    "\n",
    "    eval_res_all = evaluate_model(label, lists, type_id=None)\n",
    "    eval_df[\"ALL\"] = eval_res_all.values()\n",
    "\n",
    "    eval_df.index = eval_res_all.keys()\n",
    "    return eval_df\n",
    "\n",
    "\n",
    "def mat3(datasets, MO):\n",
    "    crf=CRF(len(label_list), batch_first=True)\n",
    "    #crf.transitions=nn.Parameter(torch.empty(12, 12))\n",
    "    #crf.reset_parameters()\n",
    "    print(crf.transitions)\n",
    "    L2, P2 = [], []\n",
    "    MO.eval()\n",
    "    MO.to(device)\n",
    "    with torch.no_grad():\n",
    "        for batch in tqdm((datasets)):\n",
    "            input_ids = batch[\"input_ids\"].to(device)\n",
    "            attention_mask = batch[\"attention_mask\"].to(device)\n",
    "            labels = batch[\"labels\"].to(device)\n",
    "            output = MO(input_ids=input_ids, token_type_ids=None, \n",
    "                        attention_mask=attention_mask, \n",
    "                        labels=labels,\n",
    "                        return_dict=True)\n",
    "            preT = crf.decode(output.logits.to(\"cpu\"), attention_mask.bool().to(\"cpu\"))\n",
    "            out_list = map(DATA_CLEAN,\n",
    "                                preT,\n",
    "                                attention_mask.cpu().numpy().copy())\n",
    "            out_label = map(DATA_CLEAN,\n",
    "                                 labels,\n",
    "                                 attention_mask.cpu().numpy().copy())\n",
    "            #print([pd.DataFrame({'pre': p[1], 'true': l[1]}) for p, l in zip(list(out_list), list(out_label))])\n",
    "            P2.append([o[0] for o in list(out_list)])\n",
    "            L2.append([o[0] for o in list(out_label)])\n",
    "\n",
    "\n",
    "    return L2, P2, eval_model(L2, P2)"
   ]
  },
  {
   "cell_type": "code",
   "execution_count": 65,
   "id": "cc729c20-7d19-4c81-b8a3-1cb320e0719f",
   "metadata": {
    "collapsed": true,
    "jupyter": {
     "outputs_hidden": true
    },
    "tags": []
   },
   "outputs": [
    {
     "name": "stdout",
     "output_type": "stream",
     "text": [
      "Parameter containing:\n",
      "tensor([[-0.0853,  0.0594, -0.0544,  0.0613,  0.0021, -0.0264,  0.0428,  0.0788,\n",
      "         -0.0299, -0.0608, -0.0009,  0.0851],\n",
      "        [ 0.0204, -0.0337, -0.0572, -0.0180,  0.0109, -0.0403,  0.0905, -0.0964,\n",
      "         -0.0796, -0.0775, -0.0767, -0.0532],\n",
      "        [ 0.0640, -0.0643,  0.0408, -0.0113, -0.0729,  0.0485, -0.0164, -0.0728,\n",
      "         -0.0917,  0.0364, -0.0888, -0.0597],\n",
      "        [-0.0597,  0.0221,  0.0601,  0.0458, -0.0070,  0.0523, -0.0424, -0.0138,\n",
      "         -0.0736,  0.0757,  0.0312,  0.0653],\n",
      "        [ 0.0968,  0.0332,  0.0358,  0.0289,  0.0904, -0.0318,  0.0139,  0.0250,\n",
      "         -0.0387,  0.0649,  0.0041, -0.0152],\n",
      "        [ 0.0163,  0.0792,  0.0237,  0.0871, -0.0771, -0.0192, -0.0709, -0.0727,\n",
      "          0.0186,  0.0848,  0.0403, -0.0257],\n",
      "        [-0.0073,  0.0797,  0.0550, -0.0306,  0.0948, -0.0010, -0.0002, -0.0729,\n",
      "         -0.0529,  0.0716, -0.0070, -0.0640],\n",
      "        [-0.0340, -0.0810, -0.0166, -0.0216,  0.0558,  0.0208, -0.0437,  0.0518,\n",
      "         -0.0373,  0.0324,  0.0552,  0.0383],\n",
      "        [ 0.0059,  0.0682,  0.0018,  0.0665, -0.0628, -0.0986,  0.0873, -0.0692,\n",
      "          0.0844, -0.0635,  0.0890,  0.0738],\n",
      "        [-0.0759, -0.0578,  0.0415,  0.0481, -0.0385,  0.0206,  0.0039,  0.0156,\n",
      "          0.0816, -0.0490,  0.0320, -0.0420],\n",
      "        [-0.0572,  0.0685, -0.0274,  0.0212,  0.0921,  0.0810, -0.0623,  0.0390,\n",
      "          0.0385,  0.0677,  0.0411,  0.0984],\n",
      "        [ 0.0309,  0.0717, -0.0467, -0.0843, -0.0983, -0.0742, -0.0932, -0.0727,\n",
      "          0.0990, -0.0962, -0.0096, -0.0102]], requires_grad=True)\n"
     ]
    },
    {
     "data": {
      "application/vnd.jupyter.widget-view+json": {
       "model_id": "97fd55c82cb74beaa99691264194c852",
       "version_major": 2,
       "version_minor": 0
      },
      "text/plain": [
       "  0%|          | 0/92 [00:00<?, ?it/s]"
      ]
     },
     "metadata": {},
     "output_type": "display_data"
    },
    {
     "ename": "KeyboardInterrupt",
     "evalue": "",
     "output_type": "error",
     "traceback": [
      "\u001b[0;31m---------------------------------------------------------------------------\u001b[0m",
      "\u001b[0;31mKeyboardInterrupt\u001b[0m                         Traceback (most recent call last)",
      "Cell \u001b[0;32mIn [65], line 1\u001b[0m\n\u001b[0;32m----> 1\u001b[0m L, P , RE \u001b[38;5;241m=\u001b[39m \u001b[43mmat3\u001b[49m\u001b[43m(\u001b[49m\u001b[43mdataloader_test\u001b[49m\u001b[43m,\u001b[49m\u001b[43m \u001b[49m\u001b[43mtorch\u001b[49m\u001b[38;5;241;43m.\u001b[39;49m\u001b[43mload\u001b[49m\u001b[43m(\u001b[49m\u001b[43mpath_checkpoint\u001b[49m\u001b[43m)\u001b[49m\u001b[43m)\u001b[49m\n",
      "Cell \u001b[0;32mIn [64], line 67\u001b[0m, in \u001b[0;36mmat3\u001b[0;34m(datasets, MO)\u001b[0m\n\u001b[1;32m     65\u001b[0m MO\u001b[38;5;241m.\u001b[39mto(device)\n\u001b[1;32m     66\u001b[0m \u001b[38;5;28;01mwith\u001b[39;00m torch\u001b[38;5;241m.\u001b[39mno_grad():\n\u001b[0;32m---> 67\u001b[0m     \u001b[38;5;28;01mfor\u001b[39;00m batch \u001b[38;5;129;01min\u001b[39;00m tqdm((datasets)):\n\u001b[1;32m     68\u001b[0m         input_ids \u001b[38;5;241m=\u001b[39m batch[\u001b[38;5;124m\"\u001b[39m\u001b[38;5;124minput_ids\u001b[39m\u001b[38;5;124m\"\u001b[39m]\u001b[38;5;241m.\u001b[39mto(device)\n\u001b[1;32m     69\u001b[0m         attention_mask \u001b[38;5;241m=\u001b[39m batch[\u001b[38;5;124m\"\u001b[39m\u001b[38;5;124mattention_mask\u001b[39m\u001b[38;5;124m\"\u001b[39m]\u001b[38;5;241m.\u001b[39mto(device)\n",
      "File \u001b[0;32m/opt/conda/lib/python3.10/site-packages/tqdm/notebook.py:259\u001b[0m, in \u001b[0;36mtqdm_notebook.__iter__\u001b[0;34m(self)\u001b[0m\n\u001b[1;32m    257\u001b[0m \u001b[38;5;28;01mtry\u001b[39;00m:\n\u001b[1;32m    258\u001b[0m     it \u001b[38;5;241m=\u001b[39m \u001b[38;5;28msuper\u001b[39m(tqdm_notebook, \u001b[38;5;28mself\u001b[39m)\u001b[38;5;241m.\u001b[39m\u001b[38;5;21m__iter__\u001b[39m()\n\u001b[0;32m--> 259\u001b[0m     \u001b[38;5;28;01mfor\u001b[39;00m obj \u001b[38;5;129;01min\u001b[39;00m it:\n\u001b[1;32m    260\u001b[0m         \u001b[38;5;66;03m# return super(tqdm...) will not catch exception\u001b[39;00m\n\u001b[1;32m    261\u001b[0m         \u001b[38;5;28;01myield\u001b[39;00m obj\n\u001b[1;32m    262\u001b[0m \u001b[38;5;66;03m# NB: except ... [ as ...] breaks IPython async KeyboardInterrupt\u001b[39;00m\n",
      "File \u001b[0;32m/opt/conda/lib/python3.10/site-packages/tqdm/std.py:1195\u001b[0m, in \u001b[0;36mtqdm.__iter__\u001b[0;34m(self)\u001b[0m\n\u001b[1;32m   1192\u001b[0m time \u001b[38;5;241m=\u001b[39m \u001b[38;5;28mself\u001b[39m\u001b[38;5;241m.\u001b[39m_time\n\u001b[1;32m   1194\u001b[0m \u001b[38;5;28;01mtry\u001b[39;00m:\n\u001b[0;32m-> 1195\u001b[0m     \u001b[38;5;28;01mfor\u001b[39;00m obj \u001b[38;5;129;01min\u001b[39;00m iterable:\n\u001b[1;32m   1196\u001b[0m         \u001b[38;5;28;01myield\u001b[39;00m obj\n\u001b[1;32m   1197\u001b[0m         \u001b[38;5;66;03m# Update and possibly print the progressbar.\u001b[39;00m\n\u001b[1;32m   1198\u001b[0m         \u001b[38;5;66;03m# Note: does not call self.update(1) for speed optimisation.\u001b[39;00m\n",
      "File \u001b[0;32m/opt/conda/lib/python3.10/site-packages/torch/utils/data/dataloader.py:681\u001b[0m, in \u001b[0;36m_BaseDataLoaderIter.__next__\u001b[0;34m(self)\u001b[0m\n\u001b[1;32m    678\u001b[0m \u001b[38;5;28;01mif\u001b[39;00m \u001b[38;5;28mself\u001b[39m\u001b[38;5;241m.\u001b[39m_sampler_iter \u001b[38;5;129;01mis\u001b[39;00m \u001b[38;5;28;01mNone\u001b[39;00m:\n\u001b[1;32m    679\u001b[0m     \u001b[38;5;66;03m# TODO(https://github.com/pytorch/pytorch/issues/76750)\u001b[39;00m\n\u001b[1;32m    680\u001b[0m     \u001b[38;5;28mself\u001b[39m\u001b[38;5;241m.\u001b[39m_reset()  \u001b[38;5;66;03m# type: ignore[call-arg]\u001b[39;00m\n\u001b[0;32m--> 681\u001b[0m data \u001b[38;5;241m=\u001b[39m \u001b[38;5;28;43mself\u001b[39;49m\u001b[38;5;241;43m.\u001b[39;49m\u001b[43m_next_data\u001b[49m\u001b[43m(\u001b[49m\u001b[43m)\u001b[49m\n\u001b[1;32m    682\u001b[0m \u001b[38;5;28mself\u001b[39m\u001b[38;5;241m.\u001b[39m_num_yielded \u001b[38;5;241m+\u001b[39m\u001b[38;5;241m=\u001b[39m \u001b[38;5;241m1\u001b[39m\n\u001b[1;32m    683\u001b[0m \u001b[38;5;28;01mif\u001b[39;00m \u001b[38;5;28mself\u001b[39m\u001b[38;5;241m.\u001b[39m_dataset_kind \u001b[38;5;241m==\u001b[39m _DatasetKind\u001b[38;5;241m.\u001b[39mIterable \u001b[38;5;129;01mand\u001b[39;00m \\\n\u001b[1;32m    684\u001b[0m         \u001b[38;5;28mself\u001b[39m\u001b[38;5;241m.\u001b[39m_IterableDataset_len_called \u001b[38;5;129;01mis\u001b[39;00m \u001b[38;5;129;01mnot\u001b[39;00m \u001b[38;5;28;01mNone\u001b[39;00m \u001b[38;5;129;01mand\u001b[39;00m \\\n\u001b[1;32m    685\u001b[0m         \u001b[38;5;28mself\u001b[39m\u001b[38;5;241m.\u001b[39m_num_yielded \u001b[38;5;241m>\u001b[39m \u001b[38;5;28mself\u001b[39m\u001b[38;5;241m.\u001b[39m_IterableDataset_len_called:\n",
      "File \u001b[0;32m/opt/conda/lib/python3.10/site-packages/torch/utils/data/dataloader.py:721\u001b[0m, in \u001b[0;36m_SingleProcessDataLoaderIter._next_data\u001b[0;34m(self)\u001b[0m\n\u001b[1;32m    719\u001b[0m \u001b[38;5;28;01mdef\u001b[39;00m \u001b[38;5;21m_next_data\u001b[39m(\u001b[38;5;28mself\u001b[39m):\n\u001b[1;32m    720\u001b[0m     index \u001b[38;5;241m=\u001b[39m \u001b[38;5;28mself\u001b[39m\u001b[38;5;241m.\u001b[39m_next_index()  \u001b[38;5;66;03m# may raise StopIteration\u001b[39;00m\n\u001b[0;32m--> 721\u001b[0m     data \u001b[38;5;241m=\u001b[39m \u001b[38;5;28;43mself\u001b[39;49m\u001b[38;5;241;43m.\u001b[39;49m\u001b[43m_dataset_fetcher\u001b[49m\u001b[38;5;241;43m.\u001b[39;49m\u001b[43mfetch\u001b[49m\u001b[43m(\u001b[49m\u001b[43mindex\u001b[49m\u001b[43m)\u001b[49m  \u001b[38;5;66;03m# may raise StopIteration\u001b[39;00m\n\u001b[1;32m    722\u001b[0m     \u001b[38;5;28;01mif\u001b[39;00m \u001b[38;5;28mself\u001b[39m\u001b[38;5;241m.\u001b[39m_pin_memory:\n\u001b[1;32m    723\u001b[0m         data \u001b[38;5;241m=\u001b[39m _utils\u001b[38;5;241m.\u001b[39mpin_memory\u001b[38;5;241m.\u001b[39mpin_memory(data, \u001b[38;5;28mself\u001b[39m\u001b[38;5;241m.\u001b[39m_pin_memory_device)\n",
      "File \u001b[0;32m/opt/conda/lib/python3.10/site-packages/torch/utils/data/_utils/fetch.py:49\u001b[0m, in \u001b[0;36m_MapDatasetFetcher.fetch\u001b[0;34m(self, possibly_batched_index)\u001b[0m\n\u001b[1;32m     47\u001b[0m \u001b[38;5;28;01mdef\u001b[39;00m \u001b[38;5;21mfetch\u001b[39m(\u001b[38;5;28mself\u001b[39m, possibly_batched_index):\n\u001b[1;32m     48\u001b[0m     \u001b[38;5;28;01mif\u001b[39;00m \u001b[38;5;28mself\u001b[39m\u001b[38;5;241m.\u001b[39mauto_collation:\n\u001b[0;32m---> 49\u001b[0m         data \u001b[38;5;241m=\u001b[39m [\u001b[38;5;28mself\u001b[39m\u001b[38;5;241m.\u001b[39mdataset[idx] \u001b[38;5;28;01mfor\u001b[39;00m idx \u001b[38;5;129;01min\u001b[39;00m possibly_batched_index]\n\u001b[1;32m     50\u001b[0m     \u001b[38;5;28;01melse\u001b[39;00m:\n\u001b[1;32m     51\u001b[0m         data \u001b[38;5;241m=\u001b[39m \u001b[38;5;28mself\u001b[39m\u001b[38;5;241m.\u001b[39mdataset[possibly_batched_index]\n",
      "File \u001b[0;32m/opt/conda/lib/python3.10/site-packages/torch/utils/data/_utils/fetch.py:49\u001b[0m, in \u001b[0;36m<listcomp>\u001b[0;34m(.0)\u001b[0m\n\u001b[1;32m     47\u001b[0m \u001b[38;5;28;01mdef\u001b[39;00m \u001b[38;5;21mfetch\u001b[39m(\u001b[38;5;28mself\u001b[39m, possibly_batched_index):\n\u001b[1;32m     48\u001b[0m     \u001b[38;5;28;01mif\u001b[39;00m \u001b[38;5;28mself\u001b[39m\u001b[38;5;241m.\u001b[39mauto_collation:\n\u001b[0;32m---> 49\u001b[0m         data \u001b[38;5;241m=\u001b[39m [\u001b[38;5;28;43mself\u001b[39;49m\u001b[38;5;241;43m.\u001b[39;49m\u001b[43mdataset\u001b[49m\u001b[43m[\u001b[49m\u001b[43midx\u001b[49m\u001b[43m]\u001b[49m \u001b[38;5;28;01mfor\u001b[39;00m idx \u001b[38;5;129;01min\u001b[39;00m possibly_batched_index]\n\u001b[1;32m     50\u001b[0m     \u001b[38;5;28;01melse\u001b[39;00m:\n\u001b[1;32m     51\u001b[0m         data \u001b[38;5;241m=\u001b[39m \u001b[38;5;28mself\u001b[39m\u001b[38;5;241m.\u001b[39mdataset[possibly_batched_index]\n",
      "Cell \u001b[0;32mIn [6], line 15\u001b[0m, in \u001b[0;36mCreateDataset.__getitem__\u001b[0;34m(self, index)\u001b[0m\n\u001b[1;32m     13\u001b[0m token_type_ids \u001b[38;5;241m=\u001b[39m torch\u001b[38;5;241m.\u001b[39mtensor(\u001b[38;5;28mself\u001b[39m\u001b[38;5;241m.\u001b[39mdataset[index][\u001b[38;5;124m\"\u001b[39m\u001b[38;5;124mtoken_type_ids\u001b[39m\u001b[38;5;124m\"\u001b[39m])\n\u001b[1;32m     14\u001b[0m attention_mask \u001b[38;5;241m=\u001b[39m torch\u001b[38;5;241m.\u001b[39mtensor(\u001b[38;5;28mself\u001b[39m\u001b[38;5;241m.\u001b[39mdataset[index][\u001b[38;5;124m\"\u001b[39m\u001b[38;5;124mattention_mask\u001b[39m\u001b[38;5;124m\"\u001b[39m])\n\u001b[0;32m---> 15\u001b[0m labels \u001b[38;5;241m=\u001b[39m torch\u001b[38;5;241m.\u001b[39mtensor(\u001b[38;5;28;43mself\u001b[39;49m\u001b[38;5;241;43m.\u001b[39;49m\u001b[43mdataset\u001b[49m\u001b[43m[\u001b[49m\u001b[43mindex\u001b[49m\u001b[43m]\u001b[49m[\u001b[38;5;124m\"\u001b[39m\u001b[38;5;124mlabels\u001b[39m\u001b[38;5;124m\"\u001b[39m])\n\u001b[1;32m     16\u001b[0m \u001b[38;5;28;01mreturn\u001b[39;00m {\n\u001b[1;32m     17\u001b[0m \u001b[38;5;124m\"\u001b[39m\u001b[38;5;124minput_ids\u001b[39m\u001b[38;5;124m\"\u001b[39m: input_ids,\n\u001b[1;32m     18\u001b[0m \u001b[38;5;124m\"\u001b[39m\u001b[38;5;124mtoken_type_ids\u001b[39m\u001b[38;5;124m\"\u001b[39m: token_type_ids,\n\u001b[1;32m     19\u001b[0m \u001b[38;5;124m\"\u001b[39m\u001b[38;5;124mattention_mask\u001b[39m\u001b[38;5;124m\"\u001b[39m: attention_mask,\n\u001b[1;32m     20\u001b[0m \u001b[38;5;124m\"\u001b[39m\u001b[38;5;124mlabels\u001b[39m\u001b[38;5;124m\"\u001b[39m: labels\n\u001b[1;32m     21\u001b[0m }\n",
      "File \u001b[0;32m~/.local/lib/python3.10/site-packages/datasets/arrow_dataset.py:2356\u001b[0m, in \u001b[0;36mDataset.__getitem__\u001b[0;34m(self, key)\u001b[0m\n\u001b[1;32m   2354\u001b[0m \u001b[38;5;28;01mdef\u001b[39;00m \u001b[38;5;21m__getitem__\u001b[39m(\u001b[38;5;28mself\u001b[39m, key):  \u001b[38;5;66;03m# noqa: F811\u001b[39;00m\n\u001b[1;32m   2355\u001b[0m     \u001b[38;5;124;03m\"\"\"Can be used to index columns (by string names) or rows (by integer index or iterable of indices or bools).\"\"\"\u001b[39;00m\n\u001b[0;32m-> 2356\u001b[0m     \u001b[38;5;28;01mreturn\u001b[39;00m \u001b[38;5;28;43mself\u001b[39;49m\u001b[38;5;241;43m.\u001b[39;49m\u001b[43m_getitem\u001b[49m\u001b[43m(\u001b[49m\n\u001b[1;32m   2357\u001b[0m \u001b[43m        \u001b[49m\u001b[43mkey\u001b[49m\u001b[43m,\u001b[49m\n\u001b[1;32m   2358\u001b[0m \u001b[43m    \u001b[49m\u001b[43m)\u001b[49m\n",
      "File \u001b[0;32m~/.local/lib/python3.10/site-packages/datasets/arrow_dataset.py:2341\u001b[0m, in \u001b[0;36mDataset._getitem\u001b[0;34m(self, key, decoded, **kwargs)\u001b[0m\n\u001b[1;32m   2339\u001b[0m formatter \u001b[38;5;241m=\u001b[39m get_formatter(format_type, features\u001b[38;5;241m=\u001b[39m\u001b[38;5;28mself\u001b[39m\u001b[38;5;241m.\u001b[39mfeatures, decoded\u001b[38;5;241m=\u001b[39mdecoded, \u001b[38;5;241m*\u001b[39m\u001b[38;5;241m*\u001b[39mformat_kwargs)\n\u001b[1;32m   2340\u001b[0m pa_subtable \u001b[38;5;241m=\u001b[39m query_table(\u001b[38;5;28mself\u001b[39m\u001b[38;5;241m.\u001b[39m_data, key, indices\u001b[38;5;241m=\u001b[39m\u001b[38;5;28mself\u001b[39m\u001b[38;5;241m.\u001b[39m_indices \u001b[38;5;28;01mif\u001b[39;00m \u001b[38;5;28mself\u001b[39m\u001b[38;5;241m.\u001b[39m_indices \u001b[38;5;129;01mis\u001b[39;00m \u001b[38;5;129;01mnot\u001b[39;00m \u001b[38;5;28;01mNone\u001b[39;00m \u001b[38;5;28;01melse\u001b[39;00m \u001b[38;5;28;01mNone\u001b[39;00m)\n\u001b[0;32m-> 2341\u001b[0m formatted_output \u001b[38;5;241m=\u001b[39m \u001b[43mformat_table\u001b[49m\u001b[43m(\u001b[49m\n\u001b[1;32m   2342\u001b[0m \u001b[43m    \u001b[49m\u001b[43mpa_subtable\u001b[49m\u001b[43m,\u001b[49m\u001b[43m \u001b[49m\u001b[43mkey\u001b[49m\u001b[43m,\u001b[49m\u001b[43m \u001b[49m\u001b[43mformatter\u001b[49m\u001b[38;5;241;43m=\u001b[39;49m\u001b[43mformatter\u001b[49m\u001b[43m,\u001b[49m\u001b[43m \u001b[49m\u001b[43mformat_columns\u001b[49m\u001b[38;5;241;43m=\u001b[39;49m\u001b[43mformat_columns\u001b[49m\u001b[43m,\u001b[49m\u001b[43m \u001b[49m\u001b[43moutput_all_columns\u001b[49m\u001b[38;5;241;43m=\u001b[39;49m\u001b[43moutput_all_columns\u001b[49m\n\u001b[1;32m   2343\u001b[0m \u001b[43m\u001b[49m\u001b[43m)\u001b[49m\n\u001b[1;32m   2344\u001b[0m \u001b[38;5;28;01mreturn\u001b[39;00m formatted_output\n",
      "File \u001b[0;32m~/.local/lib/python3.10/site-packages/datasets/formatting/formatting.py:509\u001b[0m, in \u001b[0;36mformat_table\u001b[0;34m(table, key, formatter, format_columns, output_all_columns)\u001b[0m\n\u001b[1;32m    507\u001b[0m python_formatter \u001b[38;5;241m=\u001b[39m PythonFormatter(features\u001b[38;5;241m=\u001b[39m\u001b[38;5;28;01mNone\u001b[39;00m)\n\u001b[1;32m    508\u001b[0m \u001b[38;5;28;01mif\u001b[39;00m format_columns \u001b[38;5;129;01mis\u001b[39;00m \u001b[38;5;28;01mNone\u001b[39;00m:\n\u001b[0;32m--> 509\u001b[0m     \u001b[38;5;28;01mreturn\u001b[39;00m \u001b[43mformatter\u001b[49m\u001b[43m(\u001b[49m\u001b[43mpa_table\u001b[49m\u001b[43m,\u001b[49m\u001b[43m \u001b[49m\u001b[43mquery_type\u001b[49m\u001b[38;5;241;43m=\u001b[39;49m\u001b[43mquery_type\u001b[49m\u001b[43m)\u001b[49m\n\u001b[1;32m    510\u001b[0m \u001b[38;5;28;01melif\u001b[39;00m query_type \u001b[38;5;241m==\u001b[39m \u001b[38;5;124m\"\u001b[39m\u001b[38;5;124mcolumn\u001b[39m\u001b[38;5;124m\"\u001b[39m:\n\u001b[1;32m    511\u001b[0m     \u001b[38;5;28;01mif\u001b[39;00m key \u001b[38;5;129;01min\u001b[39;00m format_columns:\n",
      "File \u001b[0;32m~/.local/lib/python3.10/site-packages/datasets/formatting/formatting.py:282\u001b[0m, in \u001b[0;36mFormatter.__call__\u001b[0;34m(self, pa_table, query_type)\u001b[0m\n\u001b[1;32m    280\u001b[0m \u001b[38;5;28;01mdef\u001b[39;00m \u001b[38;5;21m__call__\u001b[39m(\u001b[38;5;28mself\u001b[39m, pa_table: pa\u001b[38;5;241m.\u001b[39mTable, query_type: \u001b[38;5;28mstr\u001b[39m) \u001b[38;5;241m-\u001b[39m\u001b[38;5;241m>\u001b[39m Union[RowFormat, ColumnFormat, BatchFormat]:\n\u001b[1;32m    281\u001b[0m     \u001b[38;5;28;01mif\u001b[39;00m query_type \u001b[38;5;241m==\u001b[39m \u001b[38;5;124m\"\u001b[39m\u001b[38;5;124mrow\u001b[39m\u001b[38;5;124m\"\u001b[39m:\n\u001b[0;32m--> 282\u001b[0m         \u001b[38;5;28;01mreturn\u001b[39;00m \u001b[38;5;28;43mself\u001b[39;49m\u001b[38;5;241;43m.\u001b[39;49m\u001b[43mformat_row\u001b[49m\u001b[43m(\u001b[49m\u001b[43mpa_table\u001b[49m\u001b[43m)\u001b[49m\n\u001b[1;32m    283\u001b[0m     \u001b[38;5;28;01melif\u001b[39;00m query_type \u001b[38;5;241m==\u001b[39m \u001b[38;5;124m\"\u001b[39m\u001b[38;5;124mcolumn\u001b[39m\u001b[38;5;124m\"\u001b[39m:\n\u001b[1;32m    284\u001b[0m         \u001b[38;5;28;01mreturn\u001b[39;00m \u001b[38;5;28mself\u001b[39m\u001b[38;5;241m.\u001b[39mformat_column(pa_table)\n",
      "File \u001b[0;32m~/.local/lib/python3.10/site-packages/datasets/formatting/formatting.py:311\u001b[0m, in \u001b[0;36mPythonFormatter.format_row\u001b[0;34m(self, pa_table)\u001b[0m\n\u001b[1;32m    310\u001b[0m \u001b[38;5;28;01mdef\u001b[39;00m \u001b[38;5;21mformat_row\u001b[39m(\u001b[38;5;28mself\u001b[39m, pa_table: pa\u001b[38;5;241m.\u001b[39mTable) \u001b[38;5;241m-\u001b[39m\u001b[38;5;241m>\u001b[39m \u001b[38;5;28mdict\u001b[39m:\n\u001b[0;32m--> 311\u001b[0m     row \u001b[38;5;241m=\u001b[39m \u001b[38;5;28;43mself\u001b[39;49m\u001b[38;5;241;43m.\u001b[39;49m\u001b[43mpython_arrow_extractor\u001b[49m\u001b[43m(\u001b[49m\u001b[43m)\u001b[49m\u001b[38;5;241;43m.\u001b[39;49m\u001b[43mextract_row\u001b[49m\u001b[43m(\u001b[49m\u001b[43mpa_table\u001b[49m\u001b[43m)\u001b[49m\n\u001b[1;32m    312\u001b[0m     \u001b[38;5;28;01mif\u001b[39;00m \u001b[38;5;28mself\u001b[39m\u001b[38;5;241m.\u001b[39mdecoded:\n\u001b[1;32m    313\u001b[0m         row \u001b[38;5;241m=\u001b[39m \u001b[38;5;28mself\u001b[39m\u001b[38;5;241m.\u001b[39mpython_features_decoder\u001b[38;5;241m.\u001b[39mdecode_row(row)\n",
      "File \u001b[0;32m~/.local/lib/python3.10/site-packages/datasets/formatting/formatting.py:141\u001b[0m, in \u001b[0;36mPythonArrowExtractor.extract_row\u001b[0;34m(self, pa_table)\u001b[0m\n\u001b[1;32m    140\u001b[0m \u001b[38;5;28;01mdef\u001b[39;00m \u001b[38;5;21mextract_row\u001b[39m(\u001b[38;5;28mself\u001b[39m, pa_table: pa\u001b[38;5;241m.\u001b[39mTable) \u001b[38;5;241m-\u001b[39m\u001b[38;5;241m>\u001b[39m \u001b[38;5;28mdict\u001b[39m:\n\u001b[0;32m--> 141\u001b[0m     \u001b[38;5;28;01mreturn\u001b[39;00m _unnest(\u001b[43mpa_table\u001b[49m\u001b[38;5;241;43m.\u001b[39;49m\u001b[43mto_pydict\u001b[49m\u001b[43m(\u001b[49m\u001b[43m)\u001b[49m)\n",
      "\u001b[0;31mKeyboardInterrupt\u001b[0m: "
     ]
    }
   ],
   "source": [
    "L, P , RE = mat3(dataloader_test, torch.load(path_checkpoint))"
   ]
  },
  {
   "cell_type": "code",
   "execution_count": 63,
   "id": "7453dfbf-905a-461e-878a-8c6dc0f0a06e",
   "metadata": {
    "tags": []
   },
   "outputs": [
    {
     "data": {
      "text/html": [
       "<div>\n",
       "<style scoped>\n",
       "    .dataframe tbody tr th:only-of-type {\n",
       "        vertical-align: middle;\n",
       "    }\n",
       "\n",
       "    .dataframe tbody tr th {\n",
       "        vertical-align: top;\n",
       "    }\n",
       "\n",
       "    .dataframe thead th {\n",
       "        text-align: right;\n",
       "    }\n",
       "</style>\n",
       "<table border=\"1\" class=\"dataframe\">\n",
       "  <thead>\n",
       "    <tr style=\"text-align: right;\">\n",
       "      <th></th>\n",
       "      <th>Speaker</th>\n",
       "      <th>Quoat</th>\n",
       "      <th>ALL</th>\n",
       "    </tr>\n",
       "  </thead>\n",
       "  <tbody>\n",
       "    <tr>\n",
       "      <th>num_entities</th>\n",
       "      <td>1146.000000</td>\n",
       "      <td>818.000000</td>\n",
       "      <td>1964.000000</td>\n",
       "    </tr>\n",
       "    <tr>\n",
       "      <th>num_predictions</th>\n",
       "      <td>1288.000000</td>\n",
       "      <td>1030.000000</td>\n",
       "      <td>2318.000000</td>\n",
       "    </tr>\n",
       "    <tr>\n",
       "      <th>num_correct</th>\n",
       "      <td>1059.000000</td>\n",
       "      <td>704.000000</td>\n",
       "      <td>1763.000000</td>\n",
       "    </tr>\n",
       "    <tr>\n",
       "      <th>precision</th>\n",
       "      <td>0.822205</td>\n",
       "      <td>0.683495</td>\n",
       "      <td>0.760569</td>\n",
       "    </tr>\n",
       "    <tr>\n",
       "      <th>recall</th>\n",
       "      <td>0.924084</td>\n",
       "      <td>0.860636</td>\n",
       "      <td>0.897658</td>\n",
       "    </tr>\n",
       "    <tr>\n",
       "      <th>f_value</th>\n",
       "      <td>0.870173</td>\n",
       "      <td>0.761905</td>\n",
       "      <td>0.823447</td>\n",
       "    </tr>\n",
       "  </tbody>\n",
       "</table>\n",
       "</div>"
      ],
      "text/plain": [
       "                     Speaker        Quoat          ALL\n",
       "num_entities     1146.000000   818.000000  1964.000000\n",
       "num_predictions  1288.000000  1030.000000  2318.000000\n",
       "num_correct      1059.000000   704.000000  1763.000000\n",
       "precision           0.822205     0.683495     0.760569\n",
       "recall              0.924084     0.860636     0.897658\n",
       "f_value             0.870173     0.761905     0.823447"
      ]
     },
     "execution_count": 63,
     "metadata": {},
     "output_type": "execute_result"
    }
   ],
   "source": [
    "RE"
   ]
  },
  {
   "cell_type": "code",
   "execution_count": 69,
   "id": "197e22a7-f8a3-4dfd-95e9-694c852575dd",
   "metadata": {
    "tags": []
   },
   "outputs": [
    {
     "data": {
      "text/plain": [
       "tensor([[ 0, -1, -1, -1, -1, -1, -1, -1, -1, -1,  0, -1],\n",
       "        [ 0,  0,  0,  0,  0,  0, -1, -1, -1, -1,  0, -1]])"
      ]
     },
     "execution_count": 72,
     "metadata": {},
     "output_type": "execute_result"
    }
   ],
   "source": [
    "torch.tensor(np.array([\n",
    "    [0,-1,-1,-1,-1,-1,-1,-1,-1,-1,0,-1],\n",
    "    [0,0,0,0,0,0,-1,-1,-1,-1,0,-1],\n",
    "    [0,0,0,0,0,0,0,-1,-1,-1,0,-1],\n",
    "    [0,0,0,0,0,0,-1,0,-1,-1,0,-1],\n",
    "    [0,0,0,0,0,0,-1,-1,0,-1,0,-1],\n",
    "    [0,0,0,0,0,0,-1,-1,-1,0,0,-1],\n",
    "    [0,0,0,0,0,0,0,-1,-1,-1,0,-1],\n",
    "    [0,0,0,0,0,0,-1,0,-1,-1,0.-1],\n",
    "    [0,0,0,0,0,0,-1,-1,0,-1,0,-1],\n",
    "    [0,0,0,0,0,0,-1,-1,-1,0,0,-1],\n",
    "    [-1,-1,-1,-1,-1,-1,-1,-1,-1,-1,-1,-1],\n",
    "    [-1,0,0,0,0,0,-1,-1,-1,-1,-1,-1]\n",
    "]))"
   ]
  },
  {
   "cell_type": "code",
   "execution_count": 70,
   "id": "907ab3c6-eceb-4764-bbf6-10d9b9514a37",
   "metadata": {},
   "outputs": [
    {
     "data": {
      "text/plain": [
       "tensor([[-1,  2,  3],\n",
       "        [ 4,  5,  6]])"
      ]
     },
     "execution_count": 70,
     "metadata": {},
     "output_type": "execute_result"
    }
   ],
   "source": [
    "torch.tensor(np.array([[-1, 2, 3], [4, 5, 6]]))"
   ]
  },
  {
   "cell_type": "code",
   "execution_count": null,
   "id": "42b05a45-8607-4981-83e0-e0eb31ab239d",
   "metadata": {},
   "outputs": [],
   "source": []
  }
 ],
 "metadata": {
  "kernelspec": {
   "display_name": "Python 3 (ipykernel)",
   "language": "python",
   "name": "python3"
  },
  "language_info": {
   "codemirror_mode": {
    "name": "ipython",
    "version": 3
   },
   "file_extension": ".py",
   "mimetype": "text/x-python",
   "name": "python",
   "nbconvert_exporter": "python",
   "pygments_lexer": "ipython3",
   "version": "3.10.6"
  }
 },
 "nbformat": 4,
 "nbformat_minor": 5
}
