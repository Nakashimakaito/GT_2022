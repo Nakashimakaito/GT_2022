{
 "cells": [
  {
   "cell_type": "code",
   "execution_count": 1,
   "id": "current-groove",
   "metadata": {},
   "outputs": [],
   "source": [
    "import os\n",
    "import itertools\n",
    "import pandas as pd\n",
    "import numpy as np\n",
    "from module import report\n",
    "from module import Data_Agument\n",
    "from transformers.modeling_outputs import TokenClassifierOutput\n",
    "from datasets import Dataset\n",
    "from datasets import load_metric\n",
    "from transformers import AutoTokenizer\n",
    "from transformers import AutoModelForTokenClassification, TrainingArguments, Trainer,BertModel\n",
    "from transformers import DataCollatorForTokenClassification\n",
    "from torch.nn import BCEWithLogitsLoss, CrossEntropyLoss, MSELoss,NLLLoss\n",
    "import torch\n",
    "from sklearn.model_selection import train_test_split\n",
    "from livelossplot import PlotLosses\n",
    "from tqdm.notebook import tqdm\n",
    "from pytorchtools_Bert import EarlyStopping\n",
    "label_list = [\n",
    "'<pad>',\n",
    "'O',\n",
    "'B-RightSpeaker',   \n",
    "'B-Speaker',\n",
    "'B-LeftSpeaker',\n",
    "'B-Unknown',\n",
    "'I-RightSpeaker',\n",
    "'I-Speaker',\n",
    "'I-LeftSpeaker',\n",
    "'I-Unknown'\n",
    "]\n",
    "label_encoding_dict = {\n",
    "'<pad>':-100,\n",
    "'O': 1,\n",
    "'B-RightSpeaker': 2,   \n",
    "'B-Speaker': 3,\n",
    "'B-LeftSpeaker': 4,\n",
    "'B-Unknown': 5,\n",
    "'I-RightSpeaker': 6,\n",
    "'I-Speaker': 7,\n",
    "'I-LeftSpeaker': 8,\n",
    "'I-Unknown': 9}\n",
    "task = \"ner\" \n",
    "model_checkpoint = \"bert-base-uncased\"\n",
    "batch_size = 64\n",
    "    \n",
    "tokenizer = AutoTokenizer.from_pretrained(model_checkpoint)\n",
    "\n",
    "def get_all_tokens_and_ner_tags(directory):\n",
    "    return pd.concat([get_tokens_and_ner_tags(directory) ]).reset_index().drop('index', axis=1)\n",
    "    \n",
    "def get_tokens_and_ner_tags(filename):\n",
    "    with open(filename, 'r', encoding=\"utf8\") as f:\n",
    "        lines = f.readlines()\n",
    "        split_list = [list(y) for x, y in itertools.groupby(lines, lambda z: z == '\\n') if not x]\n",
    "        tokens = [[x.split(' ')[0] for x in y] for y in split_list]\n",
    "        entities = [[x.split(' ')[1][:-1] for x in y] for y in split_list] \n",
    "    return pd.DataFrame({'tokens': tokens, 'ner_tags': entities})\n",
    "\n",
    "def get_un_token_dataset(directory,Rondom):\n",
    "    if Rondom==True:\n",
    "        df , AFTER_NAME_LIST_APPEAR_1 , AFTER_NAME_LIST__OVER_1 = Data_Agument.get_Data_Agument(directory)\n",
    "        print(len(AFTER_NAME_LIST_APPEAR_1) , len(AFTER_NAME_LIST__OVER_1))\n",
    "    else:\n",
    "        df = get_all_tokens_and_ner_tags(directory)\n",
    "        for i in range(len(df)):\n",
    "            df.ner_tags[i]=[ \"O\" if d ==\"Out\" else d for d in df.ner_tags[i]]\n",
    "\n",
    "    df_train, df_test = train_test_split(df, test_size=0.3)\n",
    "    df_test, df_val = train_test_split(df_test, test_size=0.5)\n",
    "    #df_train, df_test = train_test_split(df)\n",
    "    test_dataset = Dataset.from_pandas(df_test.reset_index(drop=True))\n",
    "    train_dataset = Dataset.from_pandas(df_train.reset_index(drop=True))\n",
    "    val_dataset = Dataset.from_pandas(df_val.reset_index(drop=True))\n",
    "\n",
    "    return (df,train_dataset,test_dataset,val_dataset)"
   ]
  },
  {
   "cell_type": "code",
   "execution_count": 2,
   "id": "verified-endorsement",
   "metadata": {},
   "outputs": [
    {
     "name": "stdout",
     "output_type": "stream",
     "text": [
      "895 1765\n"
     ]
    }
   ],
   "source": [
    "df,train_dataset,test_dataset,val_dataset= get_un_token_dataset(\"./DirectQuote/data/truecased.txt\",True)"
   ]
  },
  {
   "cell_type": "code",
   "execution_count": 3,
   "id": "brazilian-bedroom",
   "metadata": {},
   "outputs": [],
   "source": [
    "path_checkpoint = 'path/model_B_BiL_path.pth'\n",
    "path_model = \"model_bert/BL.pth\""
   ]
  },
  {
   "cell_type": "code",
   "execution_count": 4,
   "id": "documented-voltage",
   "metadata": {},
   "outputs": [],
   "source": [
    "def tokenize_and_align_labels(examples):\n",
    "    label_all_tokens = True\n",
    "    tokenized_inputs = tokenizer(list(examples[\"tokens\"]), truncation=True, is_split_into_words=True)\n",
    "    #tokenized_inputs = tokenizer(list(examples[\"tokens\"]), truncation=True, is_split_into_words=True, max_length=190, padding=\"max_length\")\n",
    "    labels = []\n",
    "    for i, label in enumerate(examples[f\"{task}_tags\"]):\n",
    "        word_ids = tokenized_inputs.word_ids(batch_index=i)\n",
    "        previous_word_idx = None\n",
    "        label_ids = []\n",
    "        for word_idx in word_ids:\n",
    "            if word_idx is None:\n",
    "                label_ids.append(-100)\n",
    "            elif word_idx != previous_word_idx:\n",
    "                label_ids.append(label_encoding_dict[label[word_idx]])\n",
    "            else:\n",
    "                label_ids.append(label_encoding_dict[label[word_idx]] if label_all_tokens else -100)\n",
    "            previous_word_idx = word_idx\n",
    "        labels.append(label_ids)\n",
    "        \n",
    "    tokenized_inputs[\"labels\"] = labels\n",
    "    return tokenized_inputs"
   ]
  },
  {
   "cell_type": "code",
   "execution_count": 5,
   "id": "crucial-greek",
   "metadata": {},
   "outputs": [
    {
     "data": {
      "application/vnd.jupyter.widget-view+json": {
       "model_id": "170d32a525264a9396f12ea57219d524",
       "version_major": 2,
       "version_minor": 0
      },
      "text/plain": [
       "  0%|          | 0/14 [00:00<?, ?ba/s]"
      ]
     },
     "metadata": {},
     "output_type": "display_data"
    },
    {
     "data": {
      "application/vnd.jupyter.widget-view+json": {
       "model_id": "660c91c290064eca870720a806ed49b3",
       "version_major": 2,
       "version_minor": 0
      },
      "text/plain": [
       "  0%|          | 0/3 [00:00<?, ?ba/s]"
      ]
     },
     "metadata": {},
     "output_type": "display_data"
    },
    {
     "data": {
      "application/vnd.jupyter.widget-view+json": {
       "model_id": "f29d055ac11b4ccaad8928928154e7e2",
       "version_major": 2,
       "version_minor": 0
      },
      "text/plain": [
       "  0%|          | 0/3 [00:00<?, ?ba/s]"
      ]
     },
     "metadata": {},
     "output_type": "display_data"
    }
   ],
   "source": [
    "train_tokenized_datasets = train_dataset.map(tokenize_and_align_labels, batched=True)\n",
    "test_tokenized_datasets = test_dataset.map(tokenize_and_align_labels, batched=True)\n",
    "val_tokenized_datasets = val_dataset.map(tokenize_and_align_labels, batched=True)"
   ]
  },
  {
   "cell_type": "code",
   "execution_count": 6,
   "id": "speaking-martin",
   "metadata": {},
   "outputs": [],
   "source": [
    "class CreateDataset(Dataset):\n",
    "\n",
    "    def __init__(self, dataset):\n",
    "        self.dataset = dataset\n",
    "        self.tokenizer = tokenizer\n",
    "\n",
    "    def __len__(self):\n",
    "        return len(self.dataset)\n",
    "    def __getitem__(self, index):\n",
    "        \n",
    "        input_ids = torch.tensor(self.dataset[index][\"input_ids\"])\n",
    "        token_type_ids = torch.tensor(self.dataset[index][\"token_type_ids\"])\n",
    "        attention_mask = torch.tensor(self.dataset[index][\"attention_mask\"])\n",
    "        labels = torch.tensor(self.dataset[index][\"labels\"])\n",
    "        return {\n",
    "        \"input_ids\": input_ids,\n",
    "        \"token_type_ids\": token_type_ids,\n",
    "        \"attention_mask\": attention_mask,\n",
    "        \"labels\": labels\n",
    "        }"
   ]
  },
  {
   "cell_type": "code",
   "execution_count": 7,
   "id": "bizarre-yellow",
   "metadata": {},
   "outputs": [],
   "source": [
    "def collate_batch(batch):\n",
    "    label_list, text_list,M_list,type_list = [], [],[],[]\n",
    "    for (B) in batch:\n",
    "        _text=B[\"input_ids\"]\n",
    "        _label=B[\"labels\"]\n",
    "        _mask=B[\"attention_mask\"]\n",
    "        _type=B[\"token_type_ids\"]\n",
    "        label_list.append(_label)\n",
    "        text_list.append(_text)\n",
    "        M_list.append(_mask)\n",
    "        type_list.append(_type)\n",
    "    text_list = torch.nn.utils.rnn.pad_sequence(text_list, batch_first=True, padding_value=0)\n",
    "    label_list = torch.nn.utils.rnn.pad_sequence(label_list, batch_first=True, padding_value=-100)\n",
    "    M_list = torch.nn.utils.rnn.pad_sequence(M_list, batch_first=True, padding_value=0)\n",
    "    type_list = torch.nn.utils.rnn.pad_sequence(type_list, batch_first=True, padding_value=0)\n",
    "    return {\n",
    "        \"input_ids\": text_list,\n",
    "        \"token_type_ids\": type_list,\n",
    "        \"attention_mask\": M_list,\n",
    "        \"labels\": label_list\n",
    "        }"
   ]
  },
  {
   "cell_type": "code",
   "execution_count": 8,
   "id": "particular-capacity",
   "metadata": {},
   "outputs": [],
   "source": [
    "from torch.utils.data import Dataset, DataLoader\n",
    "\n",
    "dataset_train_for_loader = CreateDataset(train_tokenized_datasets)\n",
    "dataset_val_for_loader = CreateDataset(val_tokenized_datasets)\n",
    "dataset_test_for_loader = CreateDataset(test_tokenized_datasets)\n",
    "\n",
    "# データローダーの作成\n",
    "dataloader_train = DataLoader(dataset_train_for_loader, batch_size=64, shuffle=True, pin_memory=True,collate_fn=collate_batch)\n",
    "dataloader_val = DataLoader(dataset_val_for_loader, batch_size=64, shuffle=True, pin_memory=True,collate_fn=collate_batch)\n",
    "dataloaders_dict = {\"train\": dataloader_train, \"val\": dataloader_val}"
   ]
  },
  {
   "cell_type": "code",
   "execution_count": 9,
   "id": "empirical-pressing",
   "metadata": {},
   "outputs": [
    {
     "name": "stdout",
     "output_type": "stream",
     "text": [
      "768\n"
     ]
    }
   ],
   "source": [
    "from transformers import BertConfig\n",
    "config = BertConfig()\n",
    "config.num_labels = 10\n",
    "print(config.hidden_size)"
   ]
  },
  {
   "cell_type": "code",
   "execution_count": 10,
   "id": "extra-lender",
   "metadata": {},
   "outputs": [],
   "source": [
    "from torch.nn import functional as F\n",
    "class LabelSmoothingCrossEntropy(torch.nn.Module):\n",
    "    def __init__(self, eps=0.1, reduction='mean',ignore_index=-100):\n",
    "        super(LabelSmoothingCrossEntropy, self).__init__()\n",
    "        self.eps = eps\n",
    "        self.reduction = reduction\n",
    "        self.ignore_index = ignore_index\n",
    "\n",
    "    def forward(self, output, target):\n",
    "        c = output.size()[-1]\n",
    "        log_preds = F.log_softmax(output, dim=-1)\n",
    "        if self.reduction=='sum':\n",
    "            loss = -log_preds.sum()\n",
    "        else:\n",
    "            loss = -log_preds.sum(dim=-1)\n",
    "            if self.reduction=='mean':\n",
    "                loss = loss.mean()\n",
    "        return loss*self.eps/c + (1-self.eps) * F.nll_loss(log_preds, target, reduction=self.reduction,ignore_index=self.ignore_index)\n"
   ]
  },
  {
   "cell_type": "code",
   "execution_count": 11,
   "id": "beautiful-bibliography",
   "metadata": {},
   "outputs": [],
   "source": [
    "from torch import nn\n",
    "from typing import List, Optional, Tuple, Union\n",
    "i=0\n",
    "class B_L(nn.Module):\n",
    "\n",
    "    def __init__(self):\n",
    "        super(B_L, self).__init__()\n",
    "        self.num_labels = config.num_labels\n",
    "\n",
    "        self.bert = BertModel.from_pretrained(model_checkpoint,add_pooling_layer=False, output_attentions=True, output_hidden_states=True)\n",
    "\n",
    "    def forward(\n",
    "        self,\n",
    "        input_ids,\n",
    "        token_type_ids,\n",
    "        attention_mask,\n",
    "        labels: Optional[torch.Tensor] = None,\n",
    "        return_dict: Optional[bool] = None,\n",
    "        ):\n",
    "      \n",
    "        return_dict = return_dict if return_dict is not None else config.use_return_dict\n",
    "        #print(input_ids)\n",
    "        outputs = self.bert(\n",
    "            input_ids,\n",
    "            token_type_ids=token_type_ids,\n",
    "            attention_mask=attention_mask,\n",
    "            return_dict=return_dict,\n",
    "        )\n",
    "    \n",
    "        return TokenClassifierOutput(\n",
    "            hidden_states=outputs.hidden_states,\n",
    "            attentions=outputs.attentions,\n",
    "        )"
   ]
  },
  {
   "cell_type": "code",
   "execution_count": 12,
   "id": "handy-purpose",
   "metadata": {},
   "outputs": [
    {
     "name": "stderr",
     "output_type": "stream",
     "text": [
      "Some weights of the model checkpoint at bert-base-uncased were not used when initializing BertModel: ['cls.predictions.transform.LayerNorm.bias', 'cls.seq_relationship.weight', 'cls.predictions.decoder.weight', 'cls.predictions.transform.dense.bias', 'bert.pooler.dense.weight', 'cls.predictions.bias', 'cls.seq_relationship.bias', 'cls.predictions.transform.LayerNorm.weight', 'bert.pooler.dense.bias', 'cls.predictions.transform.dense.weight']\n",
      "- This IS expected if you are initializing BertModel from the checkpoint of a model trained on another task or with another architecture (e.g. initializing a BertForSequenceClassification model from a BertForPreTraining model).\n",
      "- This IS NOT expected if you are initializing BertModel from the checkpoint of a model that you expect to be exactly identical (initializing a BertForSequenceClassification model from a BertForSequenceClassification model).\n"
     ]
    }
   ],
   "source": [
    "modelBL = B_L()\n",
    "class B_L2(nn.Module):\n",
    "\n",
    "    def __init__(self):\n",
    "        super(B_L2, self).__init__()\n",
    "        self.num_labels = config.num_labels\n",
    "\n",
    "        self.bert = modelBL\n",
    "\n",
    "        self.lstm = nn.LSTM(input_size=config.hidden_size, hidden_size=config.hidden_size, batch_first=True, bidirectional=True)\n",
    "\n",
    "\n",
    "        self.dropout = nn.Dropout(0.3)\n",
    "\n",
    "        self.classifier= nn.Linear(config.hidden_size*2, config.num_labels)\n",
    "\n",
    "\n",
    "        nn.init.normal_(self.classifier.weight, std=0.02)\n",
    "        nn.init.normal_(self.classifier.bias, 0)\n",
    "\n",
    "\n",
    "    def forward(\n",
    "        self,\n",
    "        input_ids,\n",
    "        token_type_ids,\n",
    "        attention_mask,\n",
    "        labels: Optional[torch.Tensor] = None,\n",
    "        return_dict: Optional[bool] = None,\n",
    "        ):\n",
    "      \n",
    "        return_dict = return_dict if return_dict is not None else config.use_return_dict\n",
    "        #print(input_ids)\n",
    "        outputs = self.bert(\n",
    "            input_ids,\n",
    "            token_type_ids=token_type_ids,\n",
    "            attention_mask=attention_mask,\n",
    "            return_dict=return_dict,\n",
    "        )\n",
    "        \n",
    "\n",
    "        lstmout, _ = self.lstm(self.dropout(outputs[\"hidden_states\"][-1]), None)\n",
    "\n",
    "        logits = self.classifier(self.dropout(lstmout))\n",
    "        loss = None\n",
    "        if labels is not None:\n",
    "            #loss_fct = LabelSmoothingCrossEntropy(ignore_index=-100)\n",
    "            loss_fct = CrossEntropyLoss(ignore_index=-100)\n",
    "            loss = loss_fct(logits.view(-1, self.num_labels), labels.view(-1))\n",
    "\n",
    "        if not return_dict:\n",
    "            output = (logits,) + outputs[2:]\n",
    "            return ((loss,) + output) if loss is not None else output\n",
    "\n",
    "        return TokenClassifierOutput(\n",
    "            loss=loss,\n",
    "            logits=logits,\n",
    "            hidden_states=outputs.hidden_states,\n",
    "            attentions=outputs.attentions,\n",
    "        )"
   ]
  },
  {
   "cell_type": "code",
   "execution_count": 13,
   "id": "continent-earthquake",
   "metadata": {},
   "outputs": [],
   "source": [
    "modelBL2=B_L2()"
   ]
  },
  {
   "cell_type": "code",
   "execution_count": 14,
   "id": "mighty-north",
   "metadata": {},
   "outputs": [],
   "source": [
    "model_params = list(modelBL.named_parameters())\n",
    "model_params2 = list(modelBL2.named_parameters())"
   ]
  },
  {
   "cell_type": "code",
   "execution_count": 15,
   "id": "grave-diversity",
   "metadata": {},
   "outputs": [],
   "source": [
    "bert_params = [p for n,p in model_params2 if \"bert\" in n and not \"lstm\" in n]\n",
    "other_params = [p for n, p in model_params2 if not \"bert\" in n and not \"lstm\" in n]\n",
    "lstm_params = [p for n, p in model_params2 if \"lstm\" in n and not \"bert\" in n] \n",
    "params = [\n",
    "    {'params': bert_params, 'lr': 0.00001},\n",
    "    {'params': lstm_params, 'lr': 0.001,'weight_decacy_rate':0.00001},\n",
    "    {'params': other_params, 'lr': 0.001}\n",
    "]\n",
    "\n",
    "for param in modelBL2.parameters():\n",
    "    param.requires_grad = False\n",
    "    \n",
    "for param in modelBL2.bert.bert.encoder.layer[-7:].parameters():\n",
    "    param.requires_grad = True\n",
    "    \n",
    "for param in modelBL2.classifier.parameters():\n",
    "    param.requires_grad = True \n",
    "for param in modelBL2.lstm.parameters():\n",
    "    param.requires_grad = True "
   ]
  },
  {
   "cell_type": "code",
   "execution_count": 16,
   "id": "excellent-steel",
   "metadata": {},
   "outputs": [],
   "source": [
    "def Viterbi(scores_bert, num_entity_type, penalty=10000):\n",
    "        m = num_entity_type\n",
    "        penalty_matrix = np.zeros([m, m])\n",
    "        \"\"\"\n",
    "        for x in range(1,5):\n",
    "            for y in range(1,9):\n",
    "                if (x+4 == y):\n",
    "                    penalty_matrix[y,x]=penalty\n",
    "        \"\"\"\n",
    "        for x in range(6,10):\n",
    "            for y in range(0,10):\n",
    "                if (x==y or x == 4+y):\n",
    "                    penalty_matrix[y,x]=0\n",
    "                else:\n",
    "                    penalty_matrix[y,x]=1000\n",
    "        path = [ [i] for i in range(m) ]\n",
    "        scores_path = scores_bert[0] - penalty_matrix[0,:]\n",
    "        scores_bert = scores_bert[1:]\n",
    "        for scores in scores_bert:\n",
    "            assert len(scores) == num_entity_type \n",
    "            score_matrix = np.array(scores_path).reshape(-1,1) \\\n",
    "                + np.array(scores).reshape(1,-1) \\\n",
    "                - penalty_matrix\n",
    "            scores_path = score_matrix.max(axis=0)\n",
    "            argmax = score_matrix.argmax(axis=0)\n",
    "            path_new = []\n",
    "            for i, idx in enumerate(argmax):\n",
    "                path_new.append( path[idx] + [i] )\n",
    "            path = path_new\n",
    "        labels_optimal = path[np.argmax(scores_path)]\n",
    "        return labels_optimal\n",
    "\n",
    "def acc(model,datasets):\n",
    "    L2,P2=[],[]\n",
    "    model.eval()\n",
    "    model.to(device)\n",
    "    L,P=[],[]\n",
    "    with torch.no_grad():\n",
    "        for datas in tqdm(datasets):\n",
    "            out = model(\n",
    "                torch.tensor(datas[\"input_ids\"]).unsqueeze(0).to(device),\n",
    "                None,\n",
    "                torch.tensor(datas[\"attention_mask\"]).unsqueeze(0).to(device),\n",
    "                torch.tensor(datas[\"labels\"]).to(device),\n",
    "                return_dict=True\n",
    "            )\n",
    "            predictions =Viterbi(out.logits[0].tolist(),10)\n",
    "            lab = ((torch.tensor(datas[\"attention_mask\"])==1).int()*torch.tensor(datas[\"labels\"])).numpy().copy()\n",
    "            predictions = ((torch.tensor(datas[\"attention_mask\"])==1).int()*torch.tensor(predictions)).numpy().copy()\n",
    "            lab=lab[lab>0]\n",
    "            predictions=predictions[predictions>0]\n",
    "            true=[label_list[a] for a in lab]\n",
    "            pre=[label_list[a] for a in predictions[1:-1]]\n",
    "            #print(pd.DataFrame({'pre': pre, 'true': true}))\n",
    "            L2.append(true)\n",
    "            P2.append(pre)\n",
    "    return report.accuracy_score(L2,P2)"
   ]
  },
  {
   "cell_type": "code",
   "execution_count": 17,
   "id": "senior-windows",
   "metadata": {},
   "outputs": [],
   "source": [
    "import matplotlib.pyplot as plt\n",
    "device = torch.device(\"cuda:0\" if torch.cuda.is_available() else \"cpu\")\n",
    "patience = 15\n",
    "early_stopping = EarlyStopping(patience=patience, verbose=True,path=path_checkpoint)\n",
    "modelBL2.to(device)\n",
    "liveloss = PlotLosses()\n",
    "optimizer = torch.optim.Adam(params)\n",
    "scheduler = torch.optim.lr_scheduler.MultiStepLR(optimizer, milestones=[2,4], gamma=0.1)\n",
    "\n",
    "def train_model(net, dataloaders_dict, optimizer, num_epochs):\n",
    "    device = torch.device(\"cuda:0\" if torch.cuda.is_available() else \"cpu\")\n",
    "    print(\"使用デバイス：\", device)\n",
    "    print('-----start-------')\n",
    "\n",
    "    net.to(device)\n",
    "\n",
    "    torch.backends.cudnn.benchmark = True\n",
    "\n",
    "    batch_size = dataloaders_dict[\"train\"].batch_size\n",
    "    logs = {}\n",
    "    lrs = []\n",
    "    for epoch in range(num_epochs):\n",
    "        print(epoch)\n",
    "\n",
    "        for phase in ['train', 'val']:\n",
    "            if phase == 'train':\n",
    "                net.train()\n",
    "            else:\n",
    "                net.eval()\n",
    "\n",
    "            epoch_loss = 0.0\n",
    "            L2,P2=[],[]\n",
    "\n",
    "            for batch in tqdm((dataloaders_dict[phase])):\n",
    "                input_ids = batch[\"input_ids\"].to(device)\n",
    "                attention_mask = batch[\"attention_mask\"].to(device)\n",
    "                labels = batch[\"labels\"].to(device)\n",
    "                optimizer.zero_grad()\n",
    "                with torch.set_grad_enabled(phase == 'train'):\n",
    "                    output = net(input_ids=input_ids,\n",
    "                                 token_type_ids=None,\n",
    "                                 attention_mask=attention_mask,\n",
    "                                 labels=labels,\n",
    "                                 return_dict=True)\n",
    "                    loss = output[0]\n",
    "                    if phase == 'train':\n",
    "                        loss.backward()\n",
    "                        torch.nn.utils.clip_grad_norm_(net.parameters(), 1.0)\n",
    "                        optimizer.step()\n",
    "                    epoch_loss += loss.item() * batch_size\n",
    "            if phase == 'val':\n",
    "                logs['val_loss'] = epoch_loss/ len(dataloaders_dict[phase].dataset)\n",
    "                #logs['acc'] = acc(net,val_tokenized_datasets)\n",
    "                #logs['val_acc'] = acc(net,val_tokenized_datasets)\n",
    "                #early_stopping(epoch_loss/ len(dataloaders_dict[phase].dataset),net)\n",
    "            else:\n",
    "                logs['loss'] = epoch_loss/ len(dataloaders_dict[phase].dataset)\n",
    "                \n",
    "        early_stopping(epoch_loss/ len(dataloaders_dict[phase].dataset),net) \n",
    "        if phase == 'val':\n",
    "            if early_stopping.early_stop:\n",
    "                print(\"Early Stopping\")\n",
    "                #model.load_state_dict(torch.load(path_checkpoint))\n",
    "                #break\n",
    "                #net=torch.load(\"model_B_L_save3.pth\")\n",
    "                return net\n",
    "        liveloss.update(logs)\n",
    "        liveloss.send()\n",
    "        lrs.append(optimizer.param_groups[0][\"lr\"])\n",
    "        scheduler.step()\n",
    "        plt.plot(lrs)\n",
    "        plt.show()\n",
    "\n",
    "\n",
    "    return net"
   ]
  },
  {
   "cell_type": "code",
   "execution_count": null,
   "id": "satellite-replica",
   "metadata": {
    "tags": []
   },
   "outputs": [
    {
     "data": {
      "image/png": "[encoded data removed]",
      "text/plain": [
       "<Figure size 864x576 with 2 Axes>"
      ]
     },
     "metadata": {
      "needs_background": "light"
     },
     "output_type": "display_data"
    },
    {
     "name": "stdout",
     "output_type": "stream",
     "text": [
      "Loss\n",
      "\ttraining         \t (min:    0.130, max:    0.332, cur:    0.130)\n",
      "\tvalidation       \t (min:    0.172, max:    0.214, cur:    0.174)\n"
     ]
    },
    {
     "data": {
      "image/png": "[encoded data removed]",
      "text/plain": [
       "<Figure size 432x288 with 1 Axes>"
      ]
     },
     "metadata": {
      "needs_background": "light"
     },
     "output_type": "display_data"
    },
    {
     "name": "stdout",
     "output_type": "stream",
     "text": [
      "8\n"
     ]
    },
    {
     "data": {
      "application/vnd.jupyter.widget-view+json": {
       "model_id": "305a87e0247e4a8a87fd8970d3851582",
       "version_major": 2,
       "version_minor": 0
      },
      "text/plain": [
       "  0%|          | 0/214 [00:00<?, ?it/s]"
      ]
     },
     "metadata": {},
     "output_type": "display_data"
    },
    {
     "data": {
      "application/vnd.jupyter.widget-view+json": {
       "model_id": "f4e4a845acef4703899eaf6db45e6602",
       "version_major": 2,
       "version_minor": 0
      },
      "text/plain": [
       "  0%|          | 0/46 [00:00<?, ?it/s]"
      ]
     },
     "metadata": {},
     "output_type": "display_data"
    }
   ],
   "source": [
    "num_epochs = 50\n",
    "net_trained = train_model(modelBL2, dataloaders_dict, optimizer, num_epochs=num_epochs)"
   ]
  },
  {
   "cell_type": "code",
   "execution_count": null,
   "id": "worldwide-highlight",
   "metadata": {},
   "outputs": [],
   "source": [
    "MO=torch.load(path_checkpoint)"
   ]
  },
  {
   "cell_type": "code",
   "execution_count": null,
   "id": "veterinary-denial",
   "metadata": {},
   "outputs": [],
   "source": [
    "device = torch.device(\"cuda:0\" if torch.cuda.is_available() else \"cpu\")\n",
    "def mat3(datasets,MO):\n",
    "    L2,P2=[],[]\n",
    "    model= MO\n",
    "    model.eval()\n",
    "    # 勾配自動計算OFF\n",
    "    model.to(device)\n",
    "    model.eval() \n",
    "    L,P=[],[]\n",
    "    with torch.no_grad():\n",
    "        for datas in tqdm(datasets):\n",
    "            out = model(\n",
    "                torch.tensor(datas[\"input_ids\"]).unsqueeze(0).to(device),\n",
    "                None,\n",
    "                torch.tensor(datas[\"attention_mask\"]).unsqueeze(0).to(device),\n",
    "                torch.tensor(datas[\"labels\"]).to(device),\n",
    "                return_dict=True\n",
    "            )\n",
    "            predictions =Viterbi(out.logits[0].tolist(),10)\n",
    "            lab = ((torch.tensor(datas[\"attention_mask\"])==1).int()*torch.tensor(datas[\"labels\"])).numpy().copy()\n",
    "            predictions = ((torch.tensor(datas[\"attention_mask\"])==1).int()*torch.tensor(predictions)).numpy().copy()\n",
    "            #print(lab,predictions)\n",
    "            #lab=lab[lab>0]\n",
    "            #predictions=predictions[predictions>0]\n",
    "            true=[label_list[a] for a in lab[1:-1]]\n",
    "            pre=[label_list[a] for a in predictions[1:-1]]\n",
    "            #print(pd.DataFrame({'pre': pre, 'true': true}))\n",
    "            L2.append(true)\n",
    "            P2.append(pre)\n",
    "        print(report.classification_report(L2, P2))\n",
    "        print(\"accuracy: \",report.accuracy_score(L2,P2))\n",
    "    return L2,P2"
   ]
  },
  {
   "cell_type": "code",
   "execution_count": null,
   "id": "educational-evening",
   "metadata": {},
   "outputs": [],
   "source": []
  },
  {
   "cell_type": "code",
   "execution_count": null,
   "id": "minimal-smooth",
   "metadata": {
    "tags": []
   },
   "outputs": [],
   "source": [
    "L2,P2=mat3(test_tokenized_datasets,MO)"
   ]
  },
  {
   "cell_type": "code",
   "execution_count": null,
   "id": "fixed-coach",
   "metadata": {
    "tags": []
   },
   "outputs": [],
   "source": [
    "report.accuracy_score(L2,P2)"
   ]
  }
 ],
 "metadata": {
  "kernelspec": {
   "display_name": "Python 3 (ipykernel)",
   "language": "python",
   "name": "python3"
  },
  "language_info": {
   "codemirror_mode": {
    "name": "ipython",
    "version": 3
   },
   "file_extension": ".py",
   "mimetype": "text/x-python",
   "name": "python",
   "nbconvert_exporter": "python",
   "pygments_lexer": "ipython3",
   "version": "3.9.10"
  }
 },
 "nbformat": 4,
 "nbformat_minor": 5
}
